{
  "nbformat": 4,
  "nbformat_minor": 0,
  "metadata": {
    "colab": {
      "provenance": [],
      "collapsed_sections": []
    },
    "kernelspec": {
      "name": "python3",
      "display_name": "Python 3"
    },
    "language_info": {
      "name": "python"
    },
    "accelerator": "GPU",
    "gpuClass": "standard"
  },
  "cells": [
    {
      "cell_type": "markdown",
      "source": [
        "Data Collection"
      ],
      "metadata": {
        "id": "wgkJ5ycpITwg"
      }
    },
    {
      "cell_type": "code",
      "source": [
        "from google.colab import drive\n",
        "drive.mount('/content/drive')"
      ],
      "metadata": {
        "colab": {
          "base_uri": "https://localhost:8080/"
        },
        "id": "GmTRUrzJ141n",
        "outputId": "591f94d1-2847-4761-97a8-7ad6abbb6937"
      },
      "execution_count": 1,
      "outputs": [
        {
          "output_type": "stream",
          "name": "stdout",
          "text": [
            "Mounted at /content/drive\n"
          ]
        }
      ]
    },
    {
      "cell_type": "code",
      "execution_count": 2,
      "metadata": {
        "colab": {
          "base_uri": "https://localhost:8080/"
        },
        "id": "b7K1Rhd5HeFJ",
        "outputId": "ca612fd0-35f0-499c-9fee-f7e045e95a1a"
      },
      "outputs": [
        {
          "output_type": "stream",
          "name": "stdout",
          "text": [
            "Archive:  /content/drive/MyDrive/ibm/archive.zip\n",
            "  inflating: Dataset/Dataset/test_set/forest/0.48007200_1530881924_final_forest.jpg  \n",
            "  inflating: Dataset/Dataset/test_set/forest/0.64133000_1519374442_forest_deep.jpg  \n",
            "  inflating: Dataset/Dataset/test_set/forest/0.72918000_1559733279_forests1_gettyimages_.jpg  \n",
            "  inflating: Dataset/Dataset/test_set/forest/0.98884800_1554454572_spin.jpg  \n",
            "  inflating: Dataset/Dataset/test_set/forest/01_NeilBurnell_Mystical_photoverticall.jpg  \n",
            "  inflating: Dataset/Dataset/test_set/forest/091318_LH_forest_loss_main_FREE.jpg  \n",
            "  inflating: Dataset/Dataset/test_set/forest/1009821.jpg  \n",
            "  inflating: Dataset/Dataset/test_set/forest/111188170_river_in_the_mountain_forest.jpg  \n",
            "  inflating: Dataset/Dataset/test_set/forest/1170x500_Ireland_web.jpg  \n",
            "  inflating: Dataset/Dataset/test_set/forest/1200px_Mountainarea.jpg  \n",
            "  inflating: Dataset/Dataset/test_set/forest/146019.jpg  \n",
            "  inflating: Dataset/Dataset/test_set/forest/1506697583544.jpg  \n",
            "  inflating: Dataset/Dataset/test_set/forest/1551622076_img_5241.jpg  \n",
            "  inflating: Dataset/Dataset/test_set/forest/1551903255_2942.jpg  \n",
            "  inflating: Dataset/Dataset/test_set/forest/1556508284pexels_photo_1179229.jpeg  \n",
            "  inflating: Dataset/Dataset/test_set/forest/16475617_web1_ForestHealth_VIB_190418_2.jpg  \n",
            "  inflating: Dataset/Dataset/test_set/forest/18435324436_6a20e7fc70_k.jpg  \n",
            "  inflating: Dataset/Dataset/test_set/forest/1_chimp.jpg  \n",
            "  inflating: Dataset/Dataset/test_set/forest/200px_View_of_Lake_Moraine.jpg  \n",
            "  inflating: Dataset/Dataset/test_set/forest/2017_10_12_09_01_56.jpg  \n",
            "  inflating: Dataset/Dataset/test_set/forest/220px_The_forest_near_Blatets__Vinitsa.JPG  \n",
            "  inflating: Dataset/Dataset/test_set/forest/23769_pcbkrdossw_1500310327.jpg  \n",
            "  inflating: Dataset/Dataset/test_set/forest/2E215059_55C7_417B_8DDD693AA6E416B4_source.jpg  \n",
            "  inflating: Dataset/Dataset/test_set/forest/31105585103_4c32392ac1_k.jpg  \n",
            "  inflating: Dataset/Dataset/test_set/forest/381417.jpg  \n",
            "  inflating: Dataset/Dataset/test_set/forest/4632581118_dcfb9ed978_b.jpg.860x0_q70_crop_scale.jpg  \n",
            "  inflating: Dataset/Dataset/test_set/forest/4fe3f4e45d6bb93070989b8bbb77d30e.jpg  \n",
            "  inflating: Dataset/Dataset/test_set/forest/4k_timelapse_heavy_rain_on_mountain_forest_tree_fog_motion_bad_weather_condition_rfift1zh_thumbnail_.png  \n",
            "  inflating: Dataset/Dataset/test_set/forest/5325.jpg  \n",
            "  inflating: Dataset/Dataset/test_set/forest/5472.jpg  \n",
            "  inflating: Dataset/Dataset/test_set/forest/559672101517195076987621071193712n.jpg  \n",
            "  inflating: Dataset/Dataset/test_set/forest/78closer_exterior_view_of_northern_Rocky_Mountain_forest.jpg  \n",
            "  inflating: Dataset/Dataset/test_set/forest/79806645_landscape_of_tall_grass_field_green_mountain_forest.jpg  \n",
            "  inflating: Dataset/Dataset/test_set/forest/7_18_MedicineBowHikingFishing_KL_1319_4003.jpg  \n",
            "  inflating: Dataset/Dataset/test_set/forest/7ece9530_9cf1_11e9_bf3c_4fe6e6438142.jpg  \n",
            "  inflating: Dataset/Dataset/test_set/forest/852554.jpg  \n",
            "  inflating: Dataset/Dataset/test_set/forest/91ErlodmE5L.jpg  \n",
            "  inflating: Dataset/Dataset/test_set/forest/91sALlLjdLL.jpg  \n",
            "  inflating: Dataset/Dataset/test_set/forest/A003_C014_0724EC.0000000.jpg  \n",
            "  inflating: Dataset/Dataset/test_set/forest/Adirondack_Habitats_Mixed_Forest_Barnum_Brook_Trail_Paul_Smiths_VIC_23_May_2012_61.jpg  \n",
            "  inflating: Dataset/Dataset/test_set/forest/Adirondack_Habitats_Mixed_Forest_Jenkins_Mountain_Trail_Paul_Smiths_VIC_12_August_2013_71.jpg  \n",
            "  inflating: Dataset/Dataset/test_set/forest/Almaty_Mountains.jpg  \n",
            "  inflating: Dataset/Dataset/test_set/forest/DSCN8209(1)_250x333.JPG  \n",
            "  inflating: Dataset/Dataset/test_set/forest/DSC_0072_Forest.jpg  \n",
            "  inflating: Dataset/Dataset/test_set/forest/Deciduous_forest.jpg  \n",
            "  inflating: Dataset/Dataset/test_set/forest/Dupont_Forest_Triple_Falls_Rob_Travis_2_1.jpg  \n",
            "  inflating: Dataset/Dataset/test_set/forest/Fall_Trees_Alaskan_Adventure_by_John_Simeone.jpg  \n",
            "  inflating: Dataset/Dataset/test_set/forest/Fallen_e1499694482182.jpg  \n",
            "  inflating: Dataset/Dataset/test_set/forest/_101542074_gettyimages_956391468.jpg  \n",
            "  inflating: Dataset/Dataset/test_set/forest/a.jpg  \n",
            "  inflating: Dataset/Dataset/test_set/forest/acadia_np_622419_High_Res.jpg  \n",
            "  inflating: Dataset/Dataset/test_set/forest/altai_regio_pine_forest_1550x804.jpg  \n",
            "  inflating: Dataset/Dataset/test_set/forest/amazing_green_trees_in_dense_mountain_forest_nature_landscape_in_4k_aerial_view_b7oqfwutg_thumbnail_.png  \n",
            "  inflating: Dataset/Dataset/test_set/forest/aokigaharaforest_1_star.jpg  \n",
            "  inflating: Dataset/Dataset/test_set/forest/appalachian_mtns_forest_usda_srs.jpg  \n",
            "  inflating: Dataset/Dataset/test_set/forest/austria_mountain_forest_landscape_wallpaper_1920x1200.jpg  \n",
            "  inflating: Dataset/Dataset/test_set/forest/bavarian_forest_3385966_1280_1.jpg  \n",
            "  inflating: Dataset/Dataset/test_set/forest/beautiful_green_forest_range_images_picture_photos_wallpaper_download.jpg  \n",
            "  inflating: Dataset/Dataset/test_set/forest/beautiful_morning_mountain_forest_scenery_free_stock_photos_picjumbo_DSC02176.jpg  \n",
            "  inflating: Dataset/Dataset/test_set/forest/beautiful_mountain_forest_wallpaper_1920x1200.jpg  \n",
            "  inflating: Dataset/Dataset/test_set/forest/beech_oak_forest_560.jpg  \n",
            "  inflating: Dataset/Dataset/test_set/forest/britishforest_696483208.jpg  \n",
            "  inflating: Dataset/Dataset/test_set/forest/canva_waterfalls_in_the_mountain_forest__MADR_l3e0W4.jpg  \n",
            "  inflating: Dataset/Dataset/test_set/forest/ce8b73d56bd242eb1f2369fe856f1c63_700.jpg  \n",
            "  inflating: Dataset/Dataset/test_set/forest/cold_daylight_environment_1423600_640x427.jpg  \n",
            "  inflating: Dataset/Dataset/test_set/forest/easternArc.jpg  \n",
            "  inflating: Dataset/Dataset/test_set/forest/em_tiger_mountain_570x284_nc.jpg  \n",
            "  inflating: Dataset/Dataset/test_set/forest/europeslostf.jpg  \n",
            "  inflating: Dataset/Dataset/test_set/forest/fanas_gregorschmucki_2016_28_1_2600x1733.jpg  \n",
            "  inflating: Dataset/Dataset/test_set/forest/fantastic_dark_landscape_of_mountain_forest_in_clouds_fog_or_mist_picture_id688948674.jpg  \n",
            "  inflating: Dataset/Dataset/test_set/forest/fb26e4420f3ae3b12788fffdea0fb132_full.jpg  \n",
            "  inflating: Dataset/Dataset/test_set/forest/file_20180627_112634_8tdgn4.jpg  \n",
            "  inflating: Dataset/Dataset/test_set/with fire/180802_CarrFire_010_large_700x467.jpg  \n",
            "  inflating: Dataset/Dataset/test_set/with fire/19464620_401.jpg  \n",
            "  inflating: Dataset/Dataset/test_set/with fire/599857.jpg  \n",
            "  inflating: Dataset/Dataset/test_set/with fire/Bandipur_fires_2019.jpg  \n",
            "  inflating: Dataset/Dataset/test_set/with fire/FORESTFIRE (1).jpg  \n",
            "  inflating: Dataset/Dataset/test_set/with fire/Fire_2_696x392.jpg  \n",
            "  inflating: Dataset/Dataset/test_set/with fire/Forest_Fire (3).jpg  \n",
            "  inflating: Dataset/Dataset/test_set/with fire/Forest_Fire (4).jpg  \n",
            "  inflating: Dataset/Dataset/test_set/with fire/Forest_fire_MNRF_esize_IMG_6743.jpg  \n",
            "  inflating: Dataset/Dataset/test_set/with fire/GettyImages_482867948.0.jpg  \n",
            "  inflating: Dataset/Dataset/test_set/with fire/GettyImages_862092472_1160x773.jpg  \n",
            "  inflating: Dataset/Dataset/test_set/with fire/How_to_Protect_Your_Home_From_Forest_Fire_1024x588.jpg  \n",
            "  inflating: Dataset/Dataset/test_set/with fire/RED7_May29_1986.jpg  \n",
            "  inflating: Dataset/Dataset/test_set/with fire/The_Rim_Fire_in_the_Stanislaus_National_Forest_near_in_California_began_on_Aug._17__2013_0004.jpg  \n",
            "  inflating: Dataset/Dataset/test_set/with fire/Untitled_design_161_866x487.jpg  \n",
            "  inflating: Dataset/Dataset/test_set/with fire/Uttarakhand_forest_fire.jpeg  \n",
            "  inflating: Dataset/Dataset/test_set/with fire/Washington_DNR_Chiwaukum_WildFires_2014_2015_WA_DNR_cropped.jpg  \n",
            "  inflating: Dataset/Dataset/test_set/with fire/Wild_fires.jpg  \n",
            "  inflating: Dataset/Dataset/test_set/with fire/X80IR0GYSsG6RaiLcsXX.jpg  \n",
            "  inflating: Dataset/Dataset/test_set/with fire/b2683a16be44f230a90f50bb944315e994b43042e43df798bb4feaf27e0f8bc8.jpg  \n",
            "  inflating: Dataset/Dataset/test_set/with fire/climate_change_forest_fire.jpeg  \n",
            "  inflating: Dataset/Dataset/test_set/with fire/cumming_forest_fires.jpg  \n",
            "  inflating: Dataset/Dataset/test_set/with fire/deerfire_high_res_edit.jpg  \n",
            "  inflating: Dataset/Dataset/test_set/with fire/defense_large.jpg  \n",
            "  inflating: Dataset/Dataset/test_set/with fire/f90_fire_1168x657.jpg  \n",
            "  inflating: Dataset/Dataset/test_set/with fire/file_20190308_155532_1nvts27.jpg  \n",
            "  inflating: Dataset/Dataset/test_set/with fire/forest_fire_0.jpg  \n",
            "  inflating: Dataset/Dataset/test_set/with fire/forest_fire_2268729_1280.jpg  \n",
            "  inflating: Dataset/Dataset/test_set/with fire/forest_fire_at_bandipur_tiger_reserve_04f0dd5e_3919_11e9_9798_f85edb62de22.jpg  \n",
            "  inflating: Dataset/Dataset/test_set/with fire/forestfire.jpg  \n",
            "  inflating: Dataset/Dataset/test_set/with fire/forestfire_kApH__621x414_LiveMint.jpg  \n",
            "  inflating: Dataset/Dataset/test_set/with fire/growing_risk_future_wildfires_adobestock_199370851.jpeg  \n",
            "  inflating: Dataset/Dataset/test_set/with fire/header_hypermaritime_fire.jpg  \n",
            "  inflating: Dataset/Dataset/test_set/with fire/horseshoe_bay_fire.jpg  \n",
            "  inflating: Dataset/Dataset/test_set/with fire/image.jpg  \n",
            "  inflating: Dataset/Dataset/test_set/with fire/in_forestfire1_(1).jpg  \n",
            "  inflating: Dataset/Dataset/test_set/with fire/in_forestfires_shutter.jpg  \n",
            "  inflating: Dataset/Dataset/test_set/with fire/in_forestfiress_(1).jpg  \n",
            "  inflating: Dataset/Dataset/test_set/with fire/korea_forest_fire_4.jpg  \n",
            "  inflating: Dataset/Dataset/test_set/with fire/louisiana_forest_fire.jpg  \n",
            "  inflating: Dataset/Dataset/test_set/with fire/maxresdefault.jpg  \n",
            "  inflating: Dataset/Dataset/test_set/with fire/photo_1555842027_660d9d8df55b.jpg  \n",
            "  inflating: Dataset/Dataset/test_set/with fire/ring_of_fire_bailey_colorado_rocky_mountain_forest_wildfire_picture_id157384116.jpg  \n",
            "  inflating: Dataset/Dataset/test_set/with fire/rsz_1fire_pix_accumulation_640_1_2.jpg  \n",
            "  inflating: Dataset/Dataset/test_set/with fire/shutterstock_48032821.jpg  \n",
            "  inflating: Dataset/Dataset/test_set/with fire/shutterstock_710588224.jpg  \n",
            "  inflating: Dataset/Dataset/test_set/with fire/skynews_ashdown_forest_fire_4653702.jpg  \n",
            "  inflating: Dataset/Dataset/test_set/with fire/uttarakhand_forest_fire_750x500.jpg  \n",
            "  inflating: Dataset/Dataset/test_set/with fire/wildfire_header_image_1024x1024.jpg  \n",
            "  inflating: Dataset/Dataset/train_set/forest/with_fire (1).gif  \n",
            "  inflating: Dataset/Dataset/train_set/forest/with_fire (1).jpeg  \n",
            "  inflating: Dataset/Dataset/train_set/forest/with_fire (1).jpg  \n",
            "  inflating: Dataset/Dataset/train_set/forest/with_fire (1).png  \n",
            "  inflating: Dataset/Dataset/train_set/forest/with_fire (10).jpeg  \n",
            "  inflating: Dataset/Dataset/train_set/forest/with_fire (10).jpg  \n",
            "  inflating: Dataset/Dataset/train_set/forest/with_fire (100).jpg  \n",
            "  inflating: Dataset/Dataset/train_set/forest/with_fire (101).jpg  \n",
            "  inflating: Dataset/Dataset/train_set/forest/with_fire (102).jpg  \n",
            "  inflating: Dataset/Dataset/train_set/forest/with_fire (103).jpg  \n",
            "  inflating: Dataset/Dataset/train_set/forest/with_fire (104).jpg  \n",
            "  inflating: Dataset/Dataset/train_set/forest/with_fire (105).jpg  \n",
            "  inflating: Dataset/Dataset/train_set/forest/with_fire (106).jpg  \n",
            "  inflating: Dataset/Dataset/train_set/forest/with_fire (107).jpg  \n",
            "  inflating: Dataset/Dataset/train_set/forest/with_fire (108).jpg  \n",
            "  inflating: Dataset/Dataset/train_set/forest/with_fire (109).jpg  \n",
            "  inflating: Dataset/Dataset/train_set/forest/with_fire (11).jpg  \n",
            "  inflating: Dataset/Dataset/train_set/forest/with_fire (110).jpg  \n",
            "  inflating: Dataset/Dataset/train_set/forest/with_fire (111).jpg  \n",
            "  inflating: Dataset/Dataset/train_set/forest/with_fire (112).jpg  \n",
            "  inflating: Dataset/Dataset/train_set/forest/with_fire (113).jpg  \n",
            "  inflating: Dataset/Dataset/train_set/forest/with_fire (114).jpg  \n",
            "  inflating: Dataset/Dataset/train_set/forest/with_fire (115).jpg  \n",
            "  inflating: Dataset/Dataset/train_set/forest/with_fire (116).jpg  \n",
            "  inflating: Dataset/Dataset/train_set/forest/with_fire (117).jpg  \n",
            "  inflating: Dataset/Dataset/train_set/forest/with_fire (118).jpg  \n",
            "  inflating: Dataset/Dataset/train_set/forest/with_fire (119).jpg  \n",
            "  inflating: Dataset/Dataset/train_set/forest/with_fire (12).jpg  \n",
            "  inflating: Dataset/Dataset/train_set/forest/with_fire (120).jpg  \n",
            "  inflating: Dataset/Dataset/train_set/forest/with_fire (121).jpg  \n",
            "  inflating: Dataset/Dataset/train_set/forest/with_fire (122).jpg  \n",
            "  inflating: Dataset/Dataset/train_set/forest/with_fire (123).jpg  \n",
            "  inflating: Dataset/Dataset/train_set/forest/with_fire (124).jpg  \n",
            "  inflating: Dataset/Dataset/train_set/forest/with_fire (125).jpg  \n",
            "  inflating: Dataset/Dataset/train_set/forest/with_fire (126).jpg  \n",
            "  inflating: Dataset/Dataset/train_set/forest/with_fire (127).jpg  \n",
            "  inflating: Dataset/Dataset/train_set/forest/with_fire (128).jpg  \n",
            "  inflating: Dataset/Dataset/train_set/forest/with_fire (129).jpg  \n",
            "  inflating: Dataset/Dataset/train_set/forest/with_fire (13).jpg  \n",
            "  inflating: Dataset/Dataset/train_set/forest/with_fire (130).jpg  \n",
            "  inflating: Dataset/Dataset/train_set/forest/with_fire (131).jpg  \n",
            "  inflating: Dataset/Dataset/train_set/forest/with_fire (132).jpg  \n",
            "  inflating: Dataset/Dataset/train_set/forest/with_fire (133).jpg  \n",
            "  inflating: Dataset/Dataset/train_set/forest/with_fire (134).jpg  \n",
            "  inflating: Dataset/Dataset/train_set/forest/with_fire (135).jpg  \n",
            "  inflating: Dataset/Dataset/train_set/forest/with_fire (136).jpg  \n",
            "  inflating: Dataset/Dataset/train_set/forest/with_fire (137).jpg  \n",
            "  inflating: Dataset/Dataset/train_set/forest/with_fire (138).jpg  \n",
            "  inflating: Dataset/Dataset/train_set/forest/with_fire (139).jpg  \n",
            "  inflating: Dataset/Dataset/train_set/forest/with_fire (14).jpg  \n",
            "  inflating: Dataset/Dataset/train_set/forest/with_fire (140).jpg  \n",
            "  inflating: Dataset/Dataset/train_set/forest/with_fire (141).jpg  \n",
            "  inflating: Dataset/Dataset/train_set/forest/with_fire (142).jpg  \n",
            "  inflating: Dataset/Dataset/train_set/forest/with_fire (143).jpg  \n",
            "  inflating: Dataset/Dataset/train_set/forest/with_fire (144).jpg  \n",
            "  inflating: Dataset/Dataset/train_set/forest/with_fire (145).jpg  \n",
            "  inflating: Dataset/Dataset/train_set/forest/with_fire (146).jpg  \n",
            "  inflating: Dataset/Dataset/train_set/forest/with_fire (147).JPG  \n",
            "  inflating: Dataset/Dataset/train_set/forest/with_fire (148).jpg  \n",
            "  inflating: Dataset/Dataset/train_set/forest/with_fire (149).jpg  \n",
            "  inflating: Dataset/Dataset/train_set/forest/with_fire (15).jpg  \n",
            "  inflating: Dataset/Dataset/train_set/forest/with_fire (150).jpg  \n",
            "  inflating: Dataset/Dataset/train_set/forest/with_fire (151).jpg  \n",
            "  inflating: Dataset/Dataset/train_set/forest/with_fire (152).jpg  \n",
            "  inflating: Dataset/Dataset/train_set/forest/with_fire (153).jpg  \n",
            "  inflating: Dataset/Dataset/train_set/forest/with_fire (154).jpg  \n",
            "  inflating: Dataset/Dataset/train_set/forest/with_fire (155).jpg  \n",
            "  inflating: Dataset/Dataset/train_set/forest/with_fire (156).jpg  \n",
            "  inflating: Dataset/Dataset/train_set/forest/with_fire (157).jpg  \n",
            "  inflating: Dataset/Dataset/train_set/forest/with_fire (158).jpg  \n",
            "  inflating: Dataset/Dataset/train_set/forest/with_fire (159).jpg  \n",
            "  inflating: Dataset/Dataset/train_set/forest/with_fire (16).jpg  \n",
            "  inflating: Dataset/Dataset/train_set/forest/with_fire (160).JPG  \n",
            "  inflating: Dataset/Dataset/train_set/forest/with_fire (161).jpg  \n",
            "  inflating: Dataset/Dataset/train_set/forest/with_fire (162).jpg  \n",
            "  inflating: Dataset/Dataset/train_set/forest/with_fire (163).jpg  \n",
            "  inflating: Dataset/Dataset/train_set/forest/with_fire (164).jpg  \n",
            "  inflating: Dataset/Dataset/train_set/forest/with_fire (165).JPG  \n",
            "  inflating: Dataset/Dataset/train_set/forest/with_fire (166).jpg  \n",
            "  inflating: Dataset/Dataset/train_set/forest/with_fire (167).jpg  \n",
            "  inflating: Dataset/Dataset/train_set/forest/with_fire (168).jpg  \n",
            "  inflating: Dataset/Dataset/train_set/forest/with_fire (169).jpg  \n",
            "  inflating: Dataset/Dataset/train_set/forest/with_fire (17).jpg  \n",
            "  inflating: Dataset/Dataset/train_set/forest/with_fire (170).jpg  \n",
            "  inflating: Dataset/Dataset/train_set/forest/with_fire (171).jpg  \n",
            "  inflating: Dataset/Dataset/train_set/forest/with_fire (172).jpg  \n",
            "  inflating: Dataset/Dataset/train_set/forest/with_fire (173).jpg  \n",
            "  inflating: Dataset/Dataset/train_set/forest/with_fire (174).jpg  \n",
            "  inflating: Dataset/Dataset/train_set/forest/with_fire (175).jpg  \n",
            "  inflating: Dataset/Dataset/train_set/forest/with_fire (176).jpg  \n",
            "  inflating: Dataset/Dataset/train_set/forest/with_fire (177).jpg  \n",
            "  inflating: Dataset/Dataset/train_set/forest/with_fire (178).jpg  \n",
            "  inflating: Dataset/Dataset/train_set/forest/with_fire (179).jpg  \n",
            "  inflating: Dataset/Dataset/train_set/forest/with_fire (18).jpg  \n",
            "  inflating: Dataset/Dataset/train_set/forest/with_fire (180).jpg  \n",
            "  inflating: Dataset/Dataset/train_set/forest/with_fire (181).jpg  \n",
            "  inflating: Dataset/Dataset/train_set/forest/with_fire (182).jpg  \n",
            "  inflating: Dataset/Dataset/train_set/forest/with_fire (183).jpg  \n",
            "  inflating: Dataset/Dataset/train_set/forest/with_fire (184).jpg  \n",
            "  inflating: Dataset/Dataset/train_set/forest/with_fire (185).jpg  \n",
            "  inflating: Dataset/Dataset/train_set/forest/with_fire (186).jpg  \n",
            "  inflating: Dataset/Dataset/train_set/forest/with_fire (187).jpg  \n",
            "  inflating: Dataset/Dataset/train_set/forest/with_fire (188).jpg  \n",
            "  inflating: Dataset/Dataset/train_set/forest/with_fire (189).jpg  \n",
            "  inflating: Dataset/Dataset/train_set/forest/with_fire (19).jpg  \n",
            "  inflating: Dataset/Dataset/train_set/forest/with_fire (190).jpg  \n",
            "  inflating: Dataset/Dataset/train_set/forest/with_fire (191).jpg  \n",
            "  inflating: Dataset/Dataset/train_set/forest/with_fire (192).jpg  \n",
            "  inflating: Dataset/Dataset/train_set/forest/with_fire (193).jpg  \n",
            "  inflating: Dataset/Dataset/train_set/forest/with_fire (194).jpg  \n",
            "  inflating: Dataset/Dataset/train_set/forest/with_fire (195).jpg  \n",
            "  inflating: Dataset/Dataset/train_set/forest/with_fire (196).jpg  \n",
            "  inflating: Dataset/Dataset/train_set/forest/with_fire (197).jpg  \n",
            "  inflating: Dataset/Dataset/train_set/forest/with_fire (198).jpg  \n",
            "  inflating: Dataset/Dataset/train_set/forest/with_fire (199).jpg  \n",
            "  inflating: Dataset/Dataset/train_set/forest/with_fire (2).jpeg  \n",
            "  inflating: Dataset/Dataset/train_set/forest/with_fire (2).jpg  \n",
            "  inflating: Dataset/Dataset/train_set/forest/with_fire (2).png  \n",
            "  inflating: Dataset/Dataset/train_set/forest/with_fire (20).jpg  \n",
            "  inflating: Dataset/Dataset/train_set/forest/with_fire (200).jpg  \n",
            "  inflating: Dataset/Dataset/train_set/forest/with_fire (201).jpg  \n",
            "  inflating: Dataset/Dataset/train_set/forest/with_fire (202).jpg  \n",
            "  inflating: Dataset/Dataset/train_set/forest/with_fire (203).jpg  \n",
            "  inflating: Dataset/Dataset/train_set/forest/with_fire (204).jpg  \n",
            "  inflating: Dataset/Dataset/train_set/forest/with_fire (205).jpg  \n",
            "  inflating: Dataset/Dataset/train_set/forest/with_fire (206).jpg  \n",
            "  inflating: Dataset/Dataset/train_set/forest/with_fire (207).jpg  \n",
            "  inflating: Dataset/Dataset/train_set/forest/with_fire (208).jpg  \n",
            "  inflating: Dataset/Dataset/train_set/forest/with_fire (209).jpg  \n",
            "  inflating: Dataset/Dataset/train_set/forest/with_fire (21).jpg  \n",
            "  inflating: Dataset/Dataset/train_set/forest/with_fire (210).jpg  \n",
            "  inflating: Dataset/Dataset/train_set/forest/with_fire (211).jpg  \n",
            "  inflating: Dataset/Dataset/train_set/forest/with_fire (212).jpg  \n",
            "  inflating: Dataset/Dataset/train_set/forest/with_fire (213).jpg  \n",
            "  inflating: Dataset/Dataset/train_set/forest/with_fire (214).jpg  \n",
            "  inflating: Dataset/Dataset/train_set/forest/with_fire (215).jpg  \n",
            "  inflating: Dataset/Dataset/train_set/forest/with_fire (216).jpg  \n",
            "  inflating: Dataset/Dataset/train_set/forest/with_fire (217).jpg  \n",
            "  inflating: Dataset/Dataset/train_set/forest/with_fire (218).jpg  \n",
            "  inflating: Dataset/Dataset/train_set/forest/with_fire (219).jpg  \n",
            "  inflating: Dataset/Dataset/train_set/forest/with_fire (22).jpg  \n",
            "  inflating: Dataset/Dataset/train_set/forest/with_fire (220).JPG  \n",
            "  inflating: Dataset/Dataset/train_set/forest/with_fire (221).jpg  \n",
            "  inflating: Dataset/Dataset/train_set/forest/with_fire (222).jpg  \n",
            "  inflating: Dataset/Dataset/train_set/forest/with_fire (223).jpg  \n",
            "  inflating: Dataset/Dataset/train_set/forest/with_fire (224).jpg  \n",
            "  inflating: Dataset/Dataset/train_set/forest/with_fire (225).jpg  \n",
            "  inflating: Dataset/Dataset/train_set/forest/with_fire (226).jpg  \n",
            "  inflating: Dataset/Dataset/train_set/forest/with_fire (227).jpg  \n",
            "  inflating: Dataset/Dataset/train_set/forest/with_fire (228).jpg  \n",
            "  inflating: Dataset/Dataset/train_set/forest/with_fire (229).jpg  \n",
            "  inflating: Dataset/Dataset/train_set/forest/with_fire (23).jpg  \n",
            "  inflating: Dataset/Dataset/train_set/forest/with_fire (230).jpg  \n",
            "  inflating: Dataset/Dataset/train_set/forest/with_fire (231).jpg  \n",
            "  inflating: Dataset/Dataset/train_set/forest/with_fire (232).jpg  \n",
            "  inflating: Dataset/Dataset/train_set/forest/with_fire (233).jpg  \n",
            "  inflating: Dataset/Dataset/train_set/forest/with_fire (234).jpg  \n",
            "  inflating: Dataset/Dataset/train_set/forest/with_fire (235).jpg  \n",
            "  inflating: Dataset/Dataset/train_set/forest/with_fire (236).jpg  \n",
            "  inflating: Dataset/Dataset/train_set/forest/with_fire (237).jpg  \n",
            "  inflating: Dataset/Dataset/train_set/forest/with_fire (238).jpg  \n",
            "  inflating: Dataset/Dataset/train_set/forest/with_fire (239).jpg  \n",
            "  inflating: Dataset/Dataset/train_set/forest/with_fire (24).jpg  \n",
            "  inflating: Dataset/Dataset/train_set/forest/with_fire (240).jpg  \n",
            "  inflating: Dataset/Dataset/train_set/forest/with_fire (241).jpg  \n",
            "  inflating: Dataset/Dataset/train_set/forest/with_fire (242).jpg  \n",
            "  inflating: Dataset/Dataset/train_set/forest/with_fire (243).jpg  \n",
            "  inflating: Dataset/Dataset/train_set/forest/with_fire (244).jpg  \n",
            "  inflating: Dataset/Dataset/train_set/forest/with_fire (245).jpg  \n",
            "  inflating: Dataset/Dataset/train_set/forest/with_fire (246).jpg  \n",
            "  inflating: Dataset/Dataset/train_set/forest/with_fire (247).jpg  \n",
            "  inflating: Dataset/Dataset/train_set/forest/with_fire (248).jpg  \n",
            "  inflating: Dataset/Dataset/train_set/forest/with_fire (249).jpg  \n",
            "  inflating: Dataset/Dataset/train_set/forest/with_fire (25).jpg  \n",
            "  inflating: Dataset/Dataset/train_set/forest/with_fire (250).jpg  \n",
            "  inflating: Dataset/Dataset/train_set/forest/with_fire (251).jpg  \n",
            "  inflating: Dataset/Dataset/train_set/forest/with_fire (252).jpg  \n",
            "  inflating: Dataset/Dataset/train_set/forest/with_fire (253).jpg  \n",
            "  inflating: Dataset/Dataset/train_set/forest/with_fire (254).jpg  \n",
            "  inflating: Dataset/Dataset/train_set/forest/with_fire (255).jpg  \n",
            "  inflating: Dataset/Dataset/train_set/forest/with_fire (256).jpg  \n",
            "  inflating: Dataset/Dataset/train_set/forest/with_fire (257).jpg  \n",
            "  inflating: Dataset/Dataset/train_set/forest/with_fire (258).jpg  \n",
            "  inflating: Dataset/Dataset/train_set/forest/with_fire (259).jpg  \n",
            "  inflating: Dataset/Dataset/train_set/forest/with_fire (26).jpg  \n",
            "  inflating: Dataset/Dataset/train_set/forest/with_fire (260).jpg  \n",
            "  inflating: Dataset/Dataset/train_set/forest/with_fire (261).jpg  \n",
            "  inflating: Dataset/Dataset/train_set/forest/with_fire (27).jpg  \n",
            "  inflating: Dataset/Dataset/train_set/forest/with_fire (28).jpg  \n",
            "  inflating: Dataset/Dataset/train_set/forest/with_fire (29).jpg  \n",
            "  inflating: Dataset/Dataset/train_set/forest/with_fire (3).jpeg  \n",
            "  inflating: Dataset/Dataset/train_set/forest/with_fire (3).jpg  \n",
            "  inflating: Dataset/Dataset/train_set/forest/with_fire (3).png  \n",
            "  inflating: Dataset/Dataset/train_set/forest/with_fire (30).jpg  \n",
            "  inflating: Dataset/Dataset/train_set/forest/with_fire (31).jpg  \n",
            "  inflating: Dataset/Dataset/train_set/forest/with_fire (32).jpg  \n",
            "  inflating: Dataset/Dataset/train_set/forest/with_fire (33).jpg  \n",
            "  inflating: Dataset/Dataset/train_set/forest/with_fire (34).jpg  \n",
            "  inflating: Dataset/Dataset/train_set/forest/with_fire (35).jpg  \n",
            "  inflating: Dataset/Dataset/train_set/forest/with_fire (36).jpg  \n",
            "  inflating: Dataset/Dataset/train_set/forest/with_fire (37).jpg  \n",
            "  inflating: Dataset/Dataset/train_set/forest/with_fire (38).jpg  \n",
            "  inflating: Dataset/Dataset/train_set/forest/with_fire (39).jpg  \n",
            "  inflating: Dataset/Dataset/train_set/forest/with_fire (4).jpeg  \n",
            "  inflating: Dataset/Dataset/train_set/forest/with_fire (4).jpg  \n",
            "  inflating: Dataset/Dataset/train_set/forest/with_fire (4).png  \n",
            "  inflating: Dataset/Dataset/train_set/forest/with_fire (40).jpg  \n",
            "  inflating: Dataset/Dataset/train_set/forest/with_fire (41).jpg  \n",
            "  inflating: Dataset/Dataset/train_set/forest/with_fire (42).jpg  \n",
            "  inflating: Dataset/Dataset/train_set/forest/with_fire (43).jpg  \n",
            "  inflating: Dataset/Dataset/train_set/forest/with_fire (44).jpg  \n",
            "  inflating: Dataset/Dataset/train_set/forest/with_fire (45).jpg  \n",
            "  inflating: Dataset/Dataset/train_set/forest/with_fire (46).jpg  \n",
            "  inflating: Dataset/Dataset/train_set/forest/with_fire (47).jpg  \n",
            "  inflating: Dataset/Dataset/train_set/forest/with_fire (48).jpg  \n",
            "  inflating: Dataset/Dataset/train_set/forest/with_fire (49).jpg  \n",
            "  inflating: Dataset/Dataset/train_set/forest/with_fire (5).jpeg  \n",
            "  inflating: Dataset/Dataset/train_set/forest/with_fire (5).jpg  \n",
            "  inflating: Dataset/Dataset/train_set/forest/with_fire (5).png  \n",
            "  inflating: Dataset/Dataset/train_set/forest/with_fire (50).jpg  \n",
            "  inflating: Dataset/Dataset/train_set/forest/with_fire (51).jpg  \n",
            "  inflating: Dataset/Dataset/train_set/forest/with_fire (52).jpg  \n",
            "  inflating: Dataset/Dataset/train_set/forest/with_fire (53).jpg  \n",
            "  inflating: Dataset/Dataset/train_set/forest/with_fire (54).jpg  \n",
            "  inflating: Dataset/Dataset/train_set/forest/with_fire (55).jpg  \n",
            "  inflating: Dataset/Dataset/train_set/forest/with_fire (56).jpg  \n",
            "  inflating: Dataset/Dataset/train_set/forest/with_fire (57).jpg  \n",
            "  inflating: Dataset/Dataset/train_set/forest/with_fire (58).jpg  \n",
            "  inflating: Dataset/Dataset/train_set/forest/with_fire (59).bmp  \n",
            "  inflating: Dataset/Dataset/train_set/forest/with_fire (59).jpg  \n",
            "  inflating: Dataset/Dataset/train_set/forest/with_fire (6).jpeg  \n",
            "  inflating: Dataset/Dataset/train_set/forest/with_fire (6).jpg  \n",
            "  inflating: Dataset/Dataset/train_set/forest/with_fire (6).png  \n",
            "  inflating: Dataset/Dataset/train_set/forest/with_fire (60).jpg  \n",
            "  inflating: Dataset/Dataset/train_set/forest/with_fire (61).jpg  \n",
            "  inflating: Dataset/Dataset/train_set/forest/with_fire (62).jpg  \n",
            "  inflating: Dataset/Dataset/train_set/forest/with_fire (63).jpg  \n",
            "  inflating: Dataset/Dataset/train_set/forest/with_fire (64).jpg  \n",
            "  inflating: Dataset/Dataset/train_set/forest/with_fire (65).jpg  \n",
            "  inflating: Dataset/Dataset/train_set/forest/with_fire (66).jpg  \n",
            "  inflating: Dataset/Dataset/train_set/forest/with_fire (67).jpg  \n",
            "  inflating: Dataset/Dataset/train_set/forest/with_fire (68).jpg  \n",
            "  inflating: Dataset/Dataset/train_set/forest/with_fire (69).jpg  \n",
            "  inflating: Dataset/Dataset/train_set/forest/with_fire (7).jpeg  \n",
            "  inflating: Dataset/Dataset/train_set/forest/with_fire (7).jpg  \n",
            "  inflating: Dataset/Dataset/train_set/forest/with_fire (7).png  \n",
            "  inflating: Dataset/Dataset/train_set/forest/with_fire (70).jpg  \n",
            "  inflating: Dataset/Dataset/train_set/forest/with_fire (71).jpg  \n",
            "  inflating: Dataset/Dataset/train_set/forest/with_fire (72).jpg  \n",
            "  inflating: Dataset/Dataset/train_set/forest/with_fire (73).jpg  \n",
            "  inflating: Dataset/Dataset/train_set/forest/with_fire (74).jpg  \n",
            "  inflating: Dataset/Dataset/train_set/forest/with_fire (75).jpg  \n",
            "  inflating: Dataset/Dataset/train_set/forest/with_fire (76).jpg  \n",
            "  inflating: Dataset/Dataset/train_set/forest/with_fire (77).jpg  \n",
            "  inflating: Dataset/Dataset/train_set/forest/with_fire (78).jpg  \n",
            "  inflating: Dataset/Dataset/train_set/forest/with_fire (79).jpg  \n",
            "  inflating: Dataset/Dataset/train_set/forest/with_fire (8).jpeg  \n",
            "  inflating: Dataset/Dataset/train_set/forest/with_fire (8).jpg  \n",
            "  inflating: Dataset/Dataset/train_set/forest/with_fire (8).png  \n",
            "  inflating: Dataset/Dataset/train_set/forest/with_fire (80).jpg  \n",
            "  inflating: Dataset/Dataset/train_set/forest/with_fire (81).jpg  \n",
            "  inflating: Dataset/Dataset/train_set/forest/with_fire (82).jpg  \n",
            "  inflating: Dataset/Dataset/train_set/forest/with_fire (83).jpg  \n",
            "  inflating: Dataset/Dataset/train_set/forest/with_fire (84).jpg  \n",
            "  inflating: Dataset/Dataset/train_set/forest/with_fire (85).jpg  \n",
            "  inflating: Dataset/Dataset/train_set/forest/with_fire (86).jpg  \n",
            "  inflating: Dataset/Dataset/train_set/forest/with_fire (87).jpg  \n",
            "  inflating: Dataset/Dataset/train_set/forest/with_fire (88).jpg  \n",
            "  inflating: Dataset/Dataset/train_set/forest/with_fire (89).jpg  \n",
            "  inflating: Dataset/Dataset/train_set/forest/with_fire (9).jpeg  \n",
            "  inflating: Dataset/Dataset/train_set/forest/with_fire (9).jpg  \n",
            "  inflating: Dataset/Dataset/train_set/forest/with_fire (9).png  \n",
            "  inflating: Dataset/Dataset/train_set/forest/with_fire (90).jpg  \n",
            "  inflating: Dataset/Dataset/train_set/forest/with_fire (91).JPG  \n",
            "  inflating: Dataset/Dataset/train_set/forest/with_fire (92).jpg  \n",
            "  inflating: Dataset/Dataset/train_set/forest/with_fire (93).jpg  \n",
            "  inflating: Dataset/Dataset/train_set/forest/with_fire (94).jpg  \n",
            "  inflating: Dataset/Dataset/train_set/forest/with_fire (95).jpg  \n",
            "  inflating: Dataset/Dataset/train_set/forest/with_fire (96).jpg  \n",
            "  inflating: Dataset/Dataset/train_set/forest/with_fire (97).jpg  \n",
            "  inflating: Dataset/Dataset/train_set/forest/with_fire (98).jpg  \n",
            "  inflating: Dataset/Dataset/train_set/forest/with_fire (99).jpg  \n",
            "  inflating: Dataset/Dataset/train_set/with fire/with fire (1).png  \n",
            "  inflating: Dataset/Dataset/train_set/with fire/with fire (10).jpg  \n",
            "  inflating: Dataset/Dataset/train_set/with fire/with fire (100).jpg  \n",
            "  inflating: Dataset/Dataset/train_set/with fire/with fire (101).jpg  \n",
            "  inflating: Dataset/Dataset/train_set/with fire/with fire (102).jpg  \n",
            "  inflating: Dataset/Dataset/train_set/with fire/with fire (103).jpg  \n",
            "  inflating: Dataset/Dataset/train_set/with fire/with fire (104).jpg  \n",
            "  inflating: Dataset/Dataset/train_set/with fire/with fire (105).jpg  \n",
            "  inflating: Dataset/Dataset/train_set/with fire/with fire (106).jpg  \n",
            "  inflating: Dataset/Dataset/train_set/with fire/with fire (107).jpg  \n",
            "  inflating: Dataset/Dataset/train_set/with fire/with fire (108).jpg  \n",
            "  inflating: Dataset/Dataset/train_set/with fire/with fire (109).jpg  \n",
            "  inflating: Dataset/Dataset/train_set/with fire/with fire (11).jpg  \n",
            "  inflating: Dataset/Dataset/train_set/with fire/with fire (110).jpg  \n",
            "  inflating: Dataset/Dataset/train_set/with fire/with fire (111).jpg  \n",
            "  inflating: Dataset/Dataset/train_set/with fire/with fire (112).jpg  \n",
            "  inflating: Dataset/Dataset/train_set/with fire/with fire (113).jpg  \n",
            "  inflating: Dataset/Dataset/train_set/with fire/with fire (114).jpg  \n",
            "  inflating: Dataset/Dataset/train_set/with fire/with fire (115).jpg  \n",
            "  inflating: Dataset/Dataset/train_set/with fire/with fire (116).jpg  \n",
            "  inflating: Dataset/Dataset/train_set/with fire/with fire (117).jpg  \n",
            "  inflating: Dataset/Dataset/train_set/with fire/with fire (118).jpg  \n",
            "  inflating: Dataset/Dataset/train_set/with fire/with fire (119).jpg  \n",
            "  inflating: Dataset/Dataset/train_set/with fire/with fire (12).jpg  \n",
            "  inflating: Dataset/Dataset/train_set/with fire/with fire (120).jpg  \n",
            "  inflating: Dataset/Dataset/train_set/with fire/with fire (121).jpg  \n",
            "  inflating: Dataset/Dataset/train_set/with fire/with fire (122).jpg  \n",
            "  inflating: Dataset/Dataset/train_set/with fire/with fire (123).jpg  \n",
            "  inflating: Dataset/Dataset/train_set/with fire/with fire (124).jpg  \n",
            "  inflating: Dataset/Dataset/train_set/with fire/with fire (125).jpg  \n",
            "  inflating: Dataset/Dataset/train_set/with fire/with fire (126).jpg  \n",
            "  inflating: Dataset/Dataset/train_set/with fire/with fire (127).jpg  \n",
            "  inflating: Dataset/Dataset/train_set/with fire/with fire (128).jpg  \n",
            "  inflating: Dataset/Dataset/train_set/with fire/with fire (129).jpg  \n",
            "  inflating: Dataset/Dataset/train_set/with fire/with fire (13).jpg  \n",
            "  inflating: Dataset/Dataset/train_set/with fire/with fire (130).jpg  \n",
            "  inflating: Dataset/Dataset/train_set/with fire/with fire (131).jpg  \n",
            "  inflating: Dataset/Dataset/train_set/with fire/with fire (132).jpg  \n",
            "  inflating: Dataset/Dataset/train_set/with fire/with fire (133).jpg  \n",
            "  inflating: Dataset/Dataset/train_set/with fire/with fire (134).jpg  \n",
            "  inflating: Dataset/Dataset/train_set/with fire/with fire (135).jpg  \n",
            "  inflating: Dataset/Dataset/train_set/with fire/with fire (136).jpg  \n",
            "  inflating: Dataset/Dataset/train_set/with fire/with fire (137).jpg  \n",
            "  inflating: Dataset/Dataset/train_set/with fire/with fire (138).jpg  \n",
            "  inflating: Dataset/Dataset/train_set/with fire/with fire (139).jpg  \n",
            "  inflating: Dataset/Dataset/train_set/with fire/with fire (14).jpg  \n",
            "  inflating: Dataset/Dataset/train_set/with fire/with fire (140).jpg  \n",
            "  inflating: Dataset/Dataset/train_set/with fire/with fire (141).jpg  \n",
            "  inflating: Dataset/Dataset/train_set/with fire/with fire (142).jpg  \n",
            "  inflating: Dataset/Dataset/train_set/with fire/with fire (143).jpg  \n",
            "  inflating: Dataset/Dataset/train_set/with fire/with fire (144).jpg  \n",
            "  inflating: Dataset/Dataset/train_set/with fire/with fire (145).jpg  \n",
            "  inflating: Dataset/Dataset/train_set/with fire/with fire (146).jpg  \n",
            "  inflating: Dataset/Dataset/train_set/with fire/with fire (147).jpg  \n",
            "  inflating: Dataset/Dataset/train_set/with fire/with fire (148).jpg  \n",
            "  inflating: Dataset/Dataset/train_set/with fire/with fire (149).jpg  \n",
            "  inflating: Dataset/Dataset/train_set/with fire/with fire (15).jpg  \n",
            "  inflating: Dataset/Dataset/train_set/with fire/with fire (16).jpg  \n",
            "  inflating: Dataset/Dataset/train_set/with fire/with fire (17).jpg  \n",
            "  inflating: Dataset/Dataset/train_set/with fire/with fire (18).jpg  \n",
            "  inflating: Dataset/Dataset/train_set/with fire/with fire (19).jpg  \n",
            "  inflating: Dataset/Dataset/train_set/with fire/with fire (2).jpeg  \n",
            "  inflating: Dataset/Dataset/train_set/with fire/with fire (2).jpg  \n",
            "  inflating: Dataset/Dataset/train_set/with fire/with fire (2).png  \n",
            "  inflating: Dataset/Dataset/train_set/with fire/with fire (20).jpg  \n",
            "  inflating: Dataset/Dataset/train_set/with fire/with fire (21).jpg  \n",
            "  inflating: Dataset/Dataset/train_set/with fire/with fire (22).jpg  \n",
            "  inflating: Dataset/Dataset/train_set/with fire/with fire (23).jpg  \n",
            "  inflating: Dataset/Dataset/train_set/with fire/with fire (24).jpg  \n",
            "  inflating: Dataset/Dataset/train_set/with fire/with fire (25).jpg  \n",
            "  inflating: Dataset/Dataset/train_set/with fire/with fire (26).jpg  \n",
            "  inflating: Dataset/Dataset/train_set/with fire/with fire (27).jpg  \n",
            "  inflating: Dataset/Dataset/train_set/with fire/with fire (28).jpg  \n",
            "  inflating: Dataset/Dataset/train_set/with fire/with fire (29).jpg  \n",
            "  inflating: Dataset/Dataset/train_set/with fire/with fire (3).jpeg  \n",
            "  inflating: Dataset/Dataset/train_set/with fire/with fire (3).jpg  \n",
            "  inflating: Dataset/Dataset/train_set/with fire/with fire (3).png  \n",
            "  inflating: Dataset/Dataset/train_set/with fire/with fire (30).jpg  \n",
            "  inflating: Dataset/Dataset/train_set/with fire/with fire (31).jpg  \n",
            "  inflating: Dataset/Dataset/train_set/with fire/with fire (32).jpg  \n",
            "  inflating: Dataset/Dataset/train_set/with fire/with fire (33).jpg  \n",
            "  inflating: Dataset/Dataset/train_set/with fire/with fire (34).jpg  \n",
            "  inflating: Dataset/Dataset/train_set/with fire/with fire (35).jpg  \n",
            "  inflating: Dataset/Dataset/train_set/with fire/with fire (36).jpg  \n",
            "  inflating: Dataset/Dataset/train_set/with fire/with fire (37).jpg  \n",
            "  inflating: Dataset/Dataset/train_set/with fire/with fire (38).jpg  \n",
            "  inflating: Dataset/Dataset/train_set/with fire/with fire (39).jpg  \n",
            "  inflating: Dataset/Dataset/train_set/with fire/with fire (4).jpg  \n",
            "  inflating: Dataset/Dataset/train_set/with fire/with fire (4).png  \n",
            "  inflating: Dataset/Dataset/train_set/with fire/with fire (40).jpg  \n",
            "  inflating: Dataset/Dataset/train_set/with fire/with fire (41).jpg  \n",
            "  inflating: Dataset/Dataset/train_set/with fire/with fire (42).jpg  \n",
            "  inflating: Dataset/Dataset/train_set/with fire/with fire (43).jpg  \n",
            "  inflating: Dataset/Dataset/train_set/with fire/with fire (44).jpg  \n",
            "  inflating: Dataset/Dataset/train_set/with fire/with fire (45).jpg  \n",
            "  inflating: Dataset/Dataset/train_set/with fire/with fire (46).jpg  \n",
            "  inflating: Dataset/Dataset/train_set/with fire/with fire (47).jpg  \n",
            "  inflating: Dataset/Dataset/train_set/with fire/with fire (48).jpg  \n",
            "  inflating: Dataset/Dataset/train_set/with fire/with fire (49).jpg  \n",
            "  inflating: Dataset/Dataset/train_set/with fire/with fire (5).jpg  \n",
            "  inflating: Dataset/Dataset/train_set/with fire/with fire (50).jpg  \n",
            "  inflating: Dataset/Dataset/train_set/with fire/with fire (51).jpg  \n",
            "  inflating: Dataset/Dataset/train_set/with fire/with fire (52).jpg  \n",
            "  inflating: Dataset/Dataset/train_set/with fire/with fire (53).jpg  \n",
            "  inflating: Dataset/Dataset/train_set/with fire/with fire (54).jpg  \n",
            "  inflating: Dataset/Dataset/train_set/with fire/with fire (55).jpg  \n",
            "  inflating: Dataset/Dataset/train_set/with fire/with fire (56).jpg  \n",
            "  inflating: Dataset/Dataset/train_set/with fire/with fire (57).jpg  \n",
            "  inflating: Dataset/Dataset/train_set/with fire/with fire (58).jpg  \n",
            "  inflating: Dataset/Dataset/train_set/with fire/with fire (59).jpg  \n",
            "  inflating: Dataset/Dataset/train_set/with fire/with fire (6).jpg  \n",
            "  inflating: Dataset/Dataset/train_set/with fire/with fire (60).jpg  \n",
            "  inflating: Dataset/Dataset/train_set/with fire/with fire (61).jpg  \n",
            "  inflating: Dataset/Dataset/train_set/with fire/with fire (62).jpg  \n",
            "  inflating: Dataset/Dataset/train_set/with fire/with fire (63).jpg  \n",
            "  inflating: Dataset/Dataset/train_set/with fire/with fire (64).jpg  \n",
            "  inflating: Dataset/Dataset/train_set/with fire/with fire (65).jpg  \n",
            "  inflating: Dataset/Dataset/train_set/with fire/with fire (66).jpg  \n",
            "  inflating: Dataset/Dataset/train_set/with fire/with fire (67).jpg  \n",
            "  inflating: Dataset/Dataset/train_set/with fire/with fire (68).jpg  \n",
            "  inflating: Dataset/Dataset/train_set/with fire/with fire (69).jpg  \n",
            "  inflating: Dataset/Dataset/train_set/with fire/with fire (7).jpg  \n",
            "  inflating: Dataset/Dataset/train_set/with fire/with fire (70).jpg  \n",
            "  inflating: Dataset/Dataset/train_set/with fire/with fire (71).jpg  \n",
            "  inflating: Dataset/Dataset/train_set/with fire/with fire (72).jpg  \n",
            "  inflating: Dataset/Dataset/train_set/with fire/with fire (73).jpg  \n",
            "  inflating: Dataset/Dataset/train_set/with fire/with fire (74).jpg  \n",
            "  inflating: Dataset/Dataset/train_set/with fire/with fire (75).jpg  \n",
            "  inflating: Dataset/Dataset/train_set/with fire/with fire (76).jpg  \n",
            "  inflating: Dataset/Dataset/train_set/with fire/with fire (77).jpg  \n",
            "  inflating: Dataset/Dataset/train_set/with fire/with fire (78).jpg  \n",
            "  inflating: Dataset/Dataset/train_set/with fire/with fire (79).jpg  \n",
            "  inflating: Dataset/Dataset/train_set/with fire/with fire (8).jpg  \n",
            "  inflating: Dataset/Dataset/train_set/with fire/with fire (80).jpg  \n",
            "  inflating: Dataset/Dataset/train_set/with fire/with fire (81).jpg  \n",
            "  inflating: Dataset/Dataset/train_set/with fire/with fire (82).jpg  \n",
            "  inflating: Dataset/Dataset/train_set/with fire/with fire (83).jpg  \n",
            "  inflating: Dataset/Dataset/train_set/with fire/with fire (84).jpg  \n",
            "  inflating: Dataset/Dataset/train_set/with fire/with fire (85).jpg  \n",
            "  inflating: Dataset/Dataset/train_set/with fire/with fire (86).jpg  \n",
            "  inflating: Dataset/Dataset/train_set/with fire/with fire (87).jpg  \n",
            "  inflating: Dataset/Dataset/train_set/with fire/with fire (88).jpg  \n",
            "  inflating: Dataset/Dataset/train_set/with fire/with fire (89).jpg  \n",
            "  inflating: Dataset/Dataset/train_set/with fire/with fire (9).jpg  \n",
            "  inflating: Dataset/Dataset/train_set/with fire/with fire (90).jpg  \n",
            "  inflating: Dataset/Dataset/train_set/with fire/with fire (91).jpg  \n",
            "  inflating: Dataset/Dataset/train_set/with fire/with fire (92).jpg  \n",
            "  inflating: Dataset/Dataset/train_set/with fire/with fire (93).jpg  \n",
            "  inflating: Dataset/Dataset/train_set/with fire/with fire (94).jpg  \n",
            "  inflating: Dataset/Dataset/train_set/with fire/with fire (95).jpg  \n",
            "  inflating: Dataset/Dataset/train_set/with fire/with fire (96).jpg  \n",
            "  inflating: Dataset/Dataset/train_set/with fire/with fire (97).jpg  \n",
            "  inflating: Dataset/Dataset/train_set/with fire/with fire (98).jpg  \n",
            "  inflating: Dataset/Dataset/train_set/with fire/with fire (99).jpg  \n",
            "  inflating: Dataset/Dataset/train_set/with fire/with fire.jpeg  \n",
            "  inflating: forest1.h5              \n"
          ]
        }
      ],
      "source": [
        "!unzip '/content/drive/MyDrive/ibm/archive.zip'"
      ]
    },
    {
      "cell_type": "markdown",
      "source": [
        "**Image Preprocessing**\n",
        "\n"
      ],
      "metadata": {
        "id": "I2UJVZw8Ijw5"
      }
    },
    {
      "cell_type": "code",
      "source": [
        "# import keras library\n",
        "import keras\n",
        "#import ImageDataGenerator from keras.preprocessing.image\n",
        "from keras.preprocessing.image import ImageDataGenerator "
      ],
      "metadata": {
        "id": "bZT5qR_wjcOe"
      },
      "execution_count": 3,
      "outputs": []
    },
    {
      "cell_type": "code",
      "source": [
        "import tensorflow as tf\n",
        "import numpy as np\n",
        "import matplotlib.pyplot as plt\n",
        "from tensorflow import keras\n",
        "from tensorflow.keras.preprocessing import image_dataset_from_directory"
      ],
      "metadata": {
        "id": "fKBMB76VIxRN"
      },
      "execution_count": 4,
      "outputs": []
    },
    {
      "cell_type": "code",
      "source": [
        "\n",
        "train_datagen = ImageDataGenerator(\n",
        "                                   rotation_range=180,\n",
        "                                   brightness_range=None,\n",
        "                                   shear_range=0.4,\n",
        "                                   zoom_range=0.3,\n",
        "                                   horizontal_flip=True,\n",
        "                                   vertical_flip=True,\n",
        "                                   rescale=1./255,)"
      ],
      "metadata": {
        "id": "ybiq2pzyI7AU"
      },
      "execution_count": 5,
      "outputs": []
    },
    {
      "cell_type": "code",
      "source": [
        "\n",
        "test_datagen = ImageDataGenerator(rescale=1./255)"
      ],
      "metadata": {
        "id": "9TxKpSpuKt3-"
      },
      "execution_count": 6,
      "outputs": []
    },
    {
      "cell_type": "code",
      "source": [
        "xtrain = train_datagen.flow_from_directory('/content/Dataset/Dataset/train_set',\n",
        "                                           target_size=(64,64),\n",
        "                                           class_mode='binary',\n",
        "                                           batch_size=100)"
      ],
      "metadata": {
        "colab": {
          "base_uri": "https://localhost:8080/"
        },
        "id": "z7lHSWIfLjkp",
        "outputId": "3f8dcece-6617-4eea-8282-56673c4b5437"
      },
      "execution_count": 7,
      "outputs": [
        {
          "output_type": "stream",
          "name": "stdout",
          "text": [
            "Found 436 images belonging to 2 classes.\n"
          ]
        }
      ]
    },
    {
      "cell_type": "code",
      "source": [
        "xtest = train_datagen.flow_from_directory('/content/Dataset/Dataset/test_set',\n",
        "                                           target_size=(64,64),\n",
        "                                           class_mode='binary',\n",
        "                                           batch_size=100)"
      ],
      "metadata": {
        "colab": {
          "base_uri": "https://localhost:8080/"
        },
        "id": "DLFy3Po3MBLF",
        "outputId": "4fedddac-dda1-48ac-ce03-af30c861a593"
      },
      "execution_count": 8,
      "outputs": [
        {
          "output_type": "stream",
          "name": "stdout",
          "text": [
            "Found 121 images belonging to 2 classes.\n"
          ]
        }
      ]
    },
    {
      "cell_type": "markdown",
      "source": [
        "**Model Building**"
      ],
      "metadata": {
        "id": "_86n1NiEA6fD"
      }
    },
    {
      "cell_type": "markdown",
      "source": [
        "1. Import the Model Builing Libraries"
      ],
      "metadata": {
        "id": "JfEUueUJBBE7"
      }
    },
    {
      "cell_type": "code",
      "source": [
        "import warnings\n",
        "warnings.filterwarnings('ignore')\n",
        "from tensorflow.keras.models import Sequential\n",
        "from tensorflow.keras.layers import Dense\n",
        "from tensorflow.keras.layers import Convolution2D\n",
        "from tensorflow.keras.layers import MaxPooling2D\n",
        "from tensorflow.keras.layers import Flatten"
      ],
      "metadata": {
        "id": "kVKDcezp4QaL"
      },
      "execution_count": 9,
      "outputs": []
    },
    {
      "cell_type": "markdown",
      "source": [
        "2. Initialize the Model"
      ],
      "metadata": {
        "id": "EaIhJya8B17X"
      }
    },
    {
      "cell_type": "code",
      "source": [
        "model = Sequential()"
      ],
      "metadata": {
        "id": "kDoV7DT2BeRD"
      },
      "execution_count": 10,
      "outputs": []
    },
    {
      "cell_type": "markdown",
      "source": [
        "3. Adding CNN Layers"
      ],
      "metadata": {
        "id": "h_ABk5KZCEsS"
      }
    },
    {
      "cell_type": "code",
      "source": [
        "#Convolution Layer\n",
        "model.add(Convolution2D(32,(3,3),activation='relu',input_shape=(64,64,3)))"
      ],
      "metadata": {
        "id": "doLfETtTCAgD"
      },
      "execution_count": 11,
      "outputs": []
    },
    {
      "cell_type": "code",
      "source": [
        "#MaxPooling Layer\n",
        "model.add(MaxPooling2D(pool_size=(2, 2)))"
      ],
      "metadata": {
        "id": "hndEc-WHCKMS"
      },
      "execution_count": 12,
      "outputs": []
    },
    {
      "cell_type": "code",
      "source": [
        "#Flatten Layer\n",
        "model.add(Flatten())"
      ],
      "metadata": {
        "id": "3Pqc-JeWCVxl"
      },
      "execution_count": 13,
      "outputs": []
    },
    {
      "cell_type": "markdown",
      "source": [
        "4. Adding Dense Layer"
      ],
      "metadata": {
        "id": "e52S58PGCuiZ"
      }
    },
    {
      "cell_type": "code",
      "source": [
        "#Hidden Layer\n",
        "model.add(Dense(350,activation='relu')) # Hidden layer 1\n",
        "model.add(Dense(200,activation='relu')) # Hidden layer 2"
      ],
      "metadata": {
        "id": "XAh5JiOLCaR4"
      },
      "execution_count": 14,
      "outputs": []
    },
    {
      "cell_type": "code",
      "source": [
        "#Output Layer\n",
        "model.add(Dense(1,activation='softmax'))"
      ],
      "metadata": {
        "id": "dcb4jLSqCg5C"
      },
      "execution_count": 15,
      "outputs": []
    },
    {
      "cell_type": "markdown",
      "source": [
        "5. Configuring The Learning Process"
      ],
      "metadata": {
        "id": "RFTLHyhICw_m"
      }
    },
    {
      "cell_type": "code",
      "source": [
        "model.compile(optimizer='adam',loss='binary_crossentropy',metrics=['accuracy'])"
      ],
      "metadata": {
        "id": "I95qfZU7ConD"
      },
      "execution_count": 16,
      "outputs": []
    },
    {
      "cell_type": "markdown",
      "source": [
        "6. Training the Model"
      ],
      "metadata": {
        "id": "_qd6UCQ9C-l0"
      }
    },
    {
      "cell_type": "code",
      "source": [
        "model.fit_generator(xtrain,\n",
        "                    steps_per_epoch=len(xtrain),\n",
        "                    epochs=10,\n",
        "                    validation_data=xtest,\n",
        "                    validation_steps=len(xtest))"
      ],
      "metadata": {
        "colab": {
          "base_uri": "https://localhost:8080/"
        },
        "id": "noP4oQGzC830",
        "outputId": "096f742b-7153-40ec-a458-d645c35084c3"
      },
      "execution_count": null,
      "outputs": [
        {
          "output_type": "stream",
          "name": "stdout",
          "text": [
            "Epoch 1/10\n",
            "5/5 [==============================] - 27s 4s/step - loss: 1.1776 - accuracy: 0.3555 - val_loss: 0.5062 - val_accuracy: 0.4050\n",
            "Epoch 2/10\n",
            "5/5 [==============================] - 15s 4s/step - loss: 0.6706 - accuracy: 0.3555 - val_loss: 0.3663 - val_accuracy: 0.4050\n",
            "Epoch 3/10\n",
            "5/5 [==============================] - 15s 3s/step - loss: 0.4347 - accuracy: 0.3555 - val_loss: 0.2793 - val_accuracy: 0.4050\n",
            "Epoch 4/10\n",
            "5/5 [==============================] - 15s 3s/step - loss: 0.3615 - accuracy: 0.3555 - val_loss: 0.2003 - val_accuracy: 0.4050\n",
            "Epoch 5/10\n",
            "5/5 [==============================] - 15s 3s/step - loss: 0.2997 - accuracy: 0.3555 - val_loss: 0.1575 - val_accuracy: 0.4050\n",
            "Epoch 6/10\n",
            "5/5 [==============================] - 15s 3s/step - loss: 0.2407 - accuracy: 0.3555 - val_loss: 0.1290 - val_accuracy: 0.4050\n",
            "Epoch 7/10\n",
            "5/5 [==============================] - 15s 3s/step - loss: 0.2670 - accuracy: 0.3555 - val_loss: 0.1571 - val_accuracy: 0.4050\n",
            "Epoch 8/10\n",
            "5/5 [==============================] - 15s 3s/step - loss: 0.2214 - accuracy: 0.3555 - val_loss: 0.1045 - val_accuracy: 0.4050\n",
            "Epoch 9/10\n",
            "5/5 [==============================] - 15s 3s/step - loss: 0.1986 - accuracy: 0.3555 - val_loss: 0.0923 - val_accuracy: 0.4050\n",
            "Epoch 10/10\n",
            "5/5 [==============================] - 15s 3s/step - loss: 0.1922 - accuracy: 0.3555 - val_loss: 0.0798 - val_accuracy: 0.4050\n"
          ]
        }
      ]
    },
    {
      "cell_type": "markdown",
      "source": [
        "7. Saving the Model"
      ],
      "metadata": {
        "id": "mW4gF91DG8RC"
      }
    },
    {
      "cell_type": "code",
      "source": [
        "model.save('Forest_fire.h5')"
      ],
      "metadata": {
        "id": "qtMDnl3VF0QG"
      },
      "execution_count": 18,
      "outputs": []
    },
    {
      "cell_type": "markdown",
      "source": [
        "8. Prediction"
      ],
      "metadata": {
        "id": "wYsfVIfwHRtZ"
      }
    },
    {
      "cell_type": "code",
      "source": [
        "from tensorflow.keras.models import load_model\n",
        "from tensorflow.keras.preprocessing import image"
      ],
      "metadata": {
        "id": "M-sGToJUHOWG"
      },
      "execution_count": 19,
      "outputs": []
    },
    {
      "cell_type": "code",
      "source": [
        "img = image.load_img('/content/Fire-Forest.jpg',target_size=(64,64))"
      ],
      "metadata": {
        "id": "X2Wq2lu4IA-o"
      },
      "execution_count": 22,
      "outputs": []
    },
    {
      "cell_type": "code",
      "source": [
        "img"
      ],
      "metadata": {
        "colab": {
          "base_uri": "https://localhost:8080/",
          "height": 81
        },
        "id": "mDOmQspyIPz7",
        "outputId": "bba4a231-5eae-4896-eaaa-a5570e47f35b"
      },
      "execution_count": 23,
      "outputs": [
        {
          "output_type": "execute_result",
          "data": {
            "text/plain": [
              "<PIL.Image.Image image mode=RGB size=64x64 at 0x7EFDB01F3DD0>"
            ],
            "image/png": "[encoded data removed]"
          },
          "metadata": {},
          "execution_count": 23
        }
      ]
    },
    {
      "cell_type": "code",
      "source": [
        "x=image.img_to_array(img)\n",
        "#expand the image shape\n",
        "x=np.expand_dims(x,axis=0)"
      ],
      "metadata": {
        "id": "0EEgbXKUJsdx"
      },
      "execution_count": 24,
      "outputs": []
    },
    {
      "cell_type": "code",
      "source": [
        "pred=model.predict(x)"
      ],
      "metadata": {
        "colab": {
          "base_uri": "https://localhost:8080/"
        },
        "id": "TqPPPz14IfR1",
        "outputId": "688b51c2-81d4-4ceb-91ae-5f61120cad52"
      },
      "execution_count": 25,
      "outputs": [
        {
          "output_type": "stream",
          "name": "stdout",
          "text": [
            "1/1 [==============================] - 0s 125ms/step\n"
          ]
        }
      ]
    },
    {
      "cell_type": "code",
      "source": [
        "print (pred)"
      ],
      "metadata": {
        "colab": {
          "base_uri": "https://localhost:8080/"
        },
        "id": "xPEJIgn9KJY1",
        "outputId": "a60ea006-1e37-4517-ee93-44bee6cd12f7"
      },
      "execution_count": 26,
      "outputs": [
        {
          "output_type": "stream",
          "name": "stdout",
          "text": [
            "[[1.]]\n"
          ]
        }
      ]
    },
    {
      "cell_type": "markdown",
      "source": [
        "Video Analysis\n",
        "\n",
        "OpenCV For Video Processing\n",
        "\n",
        "1: Capture Video from Camera"
      ],
      "metadata": {
        "id": "CurxveAj1j2X"
      }
    },
    {
      "cell_type": "code",
      "source": [
        "import cv2\n",
        "import numpy as np\n",
        "from keras.preprocessing import image\n",
        "from keras.models import load_model\n"
      ],
      "metadata": {
        "id": "OylMddWC17KR"
      },
      "execution_count": 27,
      "outputs": []
    },
    {
      "cell_type": "code",
      "source": [
        "pip install twilio"
      ],
      "metadata": {
        "id": "zu-gfDB-2Gdr",
        "outputId": "ad1c6887-4c2a-4282-96af-794ea9251edc",
        "colab": {
          "base_uri": "https://localhost:8080/"
        }
      },
      "execution_count": 29,
      "outputs": [
        {
          "output_type": "stream",
          "name": "stdout",
          "text": [
            "Looking in indexes: https://pypi.org/simple, https://us-python.pkg.dev/colab-wheels/public/simple/\n",
            "Collecting twilio\n",
            "  Downloading twilio-7.15.1-py2.py3-none-any.whl (1.4 MB)\n",
            "\u001b[K     |████████████████████████████████| 1.4 MB 19.0 MB/s \n",
            "\u001b[?25hCollecting PyJWT<3.0.0,>=2.0.0\n",
            "  Downloading PyJWT-2.6.0-py3-none-any.whl (20 kB)\n",
            "Requirement already satisfied: pytz in /usr/local/lib/python3.7/dist-packages (from twilio) (2022.5)\n",
            "Requirement already satisfied: requests>=2.0.0 in /usr/local/lib/python3.7/dist-packages (from twilio) (2.23.0)\n",
            "Requirement already satisfied: certifi>=2017.4.17 in /usr/local/lib/python3.7/dist-packages (from requests>=2.0.0->twilio) (2022.9.24)\n",
            "Requirement already satisfied: idna<3,>=2.5 in /usr/local/lib/python3.7/dist-packages (from requests>=2.0.0->twilio) (2.10)\n",
            "Requirement already satisfied: chardet<4,>=3.0.2 in /usr/local/lib/python3.7/dist-packages (from requests>=2.0.0->twilio) (3.0.4)\n",
            "Requirement already satisfied: urllib3!=1.25.0,!=1.25.1,<1.26,>=1.21.1 in /usr/local/lib/python3.7/dist-packages (from requests>=2.0.0->twilio) (1.24.3)\n",
            "Installing collected packages: PyJWT, twilio\n",
            "Successfully installed PyJWT-2.6.0 twilio-7.15.1\n"
          ]
        }
      ]
    },
    {
      "cell_type": "code",
      "source": [
        "from twilio.rest import Client"
      ],
      "metadata": {
        "id": "82xnRUgt2XOj"
      },
      "execution_count": 30,
      "outputs": []
    },
    {
      "cell_type": "code",
      "source": [
        "pip install playsound"
      ],
      "metadata": {
        "id": "9Di-N4sQ2bl7",
        "outputId": "353fb787-a494-4870-edd9-dcdc800625ef",
        "colab": {
          "base_uri": "https://localhost:8080/"
        }
      },
      "execution_count": 31,
      "outputs": [
        {
          "output_type": "stream",
          "name": "stdout",
          "text": [
            "Looking in indexes: https://pypi.org/simple, https://us-python.pkg.dev/colab-wheels/public/simple/\n",
            "Collecting playsound\n",
            "  Downloading playsound-1.3.0.tar.gz (7.7 kB)\n",
            "Building wheels for collected packages: playsound\n",
            "  Building wheel for playsound (setup.py) ... \u001b[?25l\u001b[?25hdone\n",
            "  Created wheel for playsound: filename=playsound-1.3.0-py3-none-any.whl size=7035 sha256=b288d3136966667575bd1739c4951e140fc7b17285c535dc3f7b39dc91af604b\n",
            "  Stored in directory: /root/.cache/pip/wheels/ba/f8/bb/ea57c0146b664dca3a0ada4199b0ecb5f9dfcb7b7e22b65ba2\n",
            "Successfully built playsound\n",
            "Installing collected packages: playsound\n",
            "Successfully installed playsound-1.3.0\n"
          ]
        }
      ]
    },
    {
      "cell_type": "code",
      "source": [
        "pip install pygobject"
      ],
      "metadata": {
        "id": "wJbe9Hr42kWa",
        "outputId": "6bf85bf2-72cc-4a54-bffa-e3b2ffd100ad",
        "colab": {
          "base_uri": "https://localhost:8080/"
        }
      },
      "execution_count": 32,
      "outputs": [
        {
          "output_type": "stream",
          "name": "stdout",
          "text": [
            "Looking in indexes: https://pypi.org/simple, https://us-python.pkg.dev/colab-wheels/public/simple/\n",
            "Requirement already satisfied: pygobject in /usr/lib/python3/dist-packages (3.26.1)\n"
          ]
        }
      ]
    },
    {
      "cell_type": "code",
      "source": [
        "from playsound import playsound"
      ],
      "metadata": {
        "id": "fcZHugWY2r3z",
        "outputId": "3b091075-d658-4323-d674-f6e17e8da70c",
        "colab": {
          "base_uri": "https://localhost:8080/"
        }
      },
      "execution_count": 33,
      "outputs": [
        {
          "output_type": "stream",
          "name": "stderr",
          "text": [
            "WARNING:playsound:playsound is relying on another python subprocess. Please use `pip install pygobject` if you want playsound to run more efficiently.\n"
          ]
        }
      ]
    },
    {
      "cell_type": "markdown",
      "source": [
        "3: Loading our saved model file using load_model from Keras library"
      ],
      "metadata": {
        "id": "_SJp32p63Xj0"
      }
    },
    {
      "cell_type": "code",
      "source": [
        "model = load_model(r'forest1.h5')"
      ],
      "metadata": {
        "id": "BV9v2VOh3YhX"
      },
      "execution_count": 35,
      "outputs": []
    },
    {
      "cell_type": "code",
      "source": [
        "video = cv2.VideoCapture(0)"
      ],
      "metadata": {
        "id": "uDUOXLhM3rsC"
      },
      "execution_count": 36,
      "outputs": []
    },
    {
      "cell_type": "code",
      "source": [
        "name = ['forest', 'with fire']"
      ],
      "metadata": {
        "id": "CAG37usg3xeC"
      },
      "execution_count": 37,
      "outputs": []
    },
    {
      "cell_type": "markdown",
      "source": [
        "openCV intergeration"
      ],
      "metadata": {
        "id": "sB4lznWP4DX8"
      }
    },
    {
      "cell_type": "code",
      "source": [
        "account_sid = 'ACe316932976f5aff487f6cdcab9a13579'\n",
        "auth_token= '2388b1f10e88371fd6ebeabc00fd3ebf'\n",
        "client = Client (account_sid, auth_token)\n",
        "message = client.messages\\\n",
        ".create(\n",
        "    body='Forest Fire is detected, stay alert',\n",
        "    from_= '+12183043886',\n",
        "    to='+916374835017')\n",
        "print(message.sid)"
      ],
      "metadata": {
        "id": "_TGsuRWs4URA",
        "outputId": "cba00d19-b030-4e83-eb53-42eed4fb2494",
        "colab": {
          "base_uri": "https://localhost:8080/"
        }
      },
      "execution_count": 46,
      "outputs": [
        {
          "output_type": "stream",
          "name": "stdout",
          "text": [
            "SM6e87d843df48e379caa471b1d2fa85a6\n"
          ]
        }
      ]
    }
  ]
}