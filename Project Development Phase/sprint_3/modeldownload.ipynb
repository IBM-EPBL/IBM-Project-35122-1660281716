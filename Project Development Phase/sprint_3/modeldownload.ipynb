{
 "cells": [
  {
   "cell_type": "code",
   "execution_count": 2,
   "id": "31971d4f",
   "metadata": {},
   "outputs": [
    {
     "name": "stdout",
     "output_type": "stream",
     "text": [
      "Requirement already satisfied: watson-machine-learning-client in c:\\users\\elankumaran r\\anaconda3\\lib\\site-packages (1.0.391)\n",
      "Requirement already satisfied: tabulate in c:\\users\\elankumaran r\\anaconda3\\lib\\site-packages (from watson-machine-learning-client) (0.9.0)\n",
      "Requirement already satisfied: tqdm in c:\\users\\elankumaran r\\anaconda3\\lib\\site-packages (from watson-machine-learning-client) (4.62.3)\n",
      "Requirement already satisfied: certifi in c:\\users\\elankumaran r\\anaconda3\\lib\\site-packages (from watson-machine-learning-client) (2021.10.8)\n",
      "Requirement already satisfied: requests in c:\\users\\elankumaran r\\anaconda3\\lib\\site-packages (from watson-machine-learning-client) (2.26.0)\n",
      "Requirement already satisfied: ibm-cos-sdk in c:\\users\\elankumaran r\\anaconda3\\lib\\site-packages (from watson-machine-learning-client) (2.11.0)\n",
      "Requirement already satisfied: urllib3 in c:\\users\\elankumaran r\\anaconda3\\lib\\site-packages (from watson-machine-learning-client) (1.26.7)\n",
      "Requirement already satisfied: lomond in c:\\users\\elankumaran r\\anaconda3\\lib\\site-packages (from watson-machine-learning-client) (0.3.3)\n",
      "Requirement already satisfied: pandas in c:\\users\\elankumaran r\\anaconda3\\lib\\site-packages (from watson-machine-learning-client) (1.3.4)\n",
      "Requirement already satisfied: boto3 in c:\\users\\elankumaran r\\anaconda3\\lib\\site-packages (from watson-machine-learning-client) (1.26.8)\n",
      "Requirement already satisfied: s3transfer<0.7.0,>=0.6.0 in c:\\users\\elankumaran r\\anaconda3\\lib\\site-packages (from boto3->watson-machine-learning-client) (0.6.0)\n",
      "Requirement already satisfied: botocore<1.30.0,>=1.29.8 in c:\\users\\elankumaran r\\anaconda3\\lib\\site-packages (from boto3->watson-machine-learning-client) (1.29.8)\n",
      "Requirement already satisfied: jmespath<2.0.0,>=0.7.1 in c:\\users\\elankumaran r\\anaconda3\\lib\\site-packages (from boto3->watson-machine-learning-client) (0.10.0)\n",
      "Requirement already satisfied: python-dateutil<3.0.0,>=2.1 in c:\\users\\elankumaran r\\anaconda3\\lib\\site-packages (from botocore<1.30.0,>=1.29.8->boto3->watson-machine-learning-client) (2.8.2)\n",
      "Requirement already satisfied: six>=1.5 in c:\\users\\elankumaran r\\anaconda3\\lib\\site-packages (from python-dateutil<3.0.0,>=2.1->botocore<1.30.0,>=1.29.8->boto3->watson-machine-learning-client) (1.16.0)\n",
      "Requirement already satisfied: ibm-cos-sdk-core==2.11.0 in c:\\users\\elankumaran r\\anaconda3\\lib\\site-packages (from ibm-cos-sdk->watson-machine-learning-client) (2.11.0)\n",
      "Requirement already satisfied: ibm-cos-sdk-s3transfer==2.11.0 in c:\\users\\elankumaran r\\anaconda3\\lib\\site-packages (from ibm-cos-sdk->watson-machine-learning-client) (2.11.0)\n",
      "Requirement already satisfied: charset-normalizer~=2.0.0 in c:\\users\\elankumaran r\\anaconda3\\lib\\site-packages (from requests->watson-machine-learning-client) (2.0.4)\n",
      "Requirement already satisfied: idna<4,>=2.5 in c:\\users\\elankumaran r\\anaconda3\\lib\\site-packages (from requests->watson-machine-learning-client) (3.2)\n",
      "Requirement already satisfied: pytz>=2017.3 in c:\\users\\elankumaran r\\anaconda3\\lib\\site-packages (from pandas->watson-machine-learning-client) (2021.3)\n",
      "Requirement already satisfied: numpy>=1.17.3 in c:\\users\\elankumaran r\\anaconda3\\lib\\site-packages (from pandas->watson-machine-learning-client) (1.20.3)\n",
      "Requirement already satisfied: colorama in c:\\users\\elankumaran r\\anaconda3\\lib\\site-packages (from tqdm->watson-machine-learning-client) (0.4.4)\n",
      "Note: you may need to restart the kernel to use updated packages.\n"
     ]
    }
   ],
   "source": [
    "pip install watson-machine-learning-client"
   ]
  },
  {
   "cell_type": "code",
   "execution_count": 3,
   "id": "a09b4079",
   "metadata": {},
   "outputs": [],
   "source": [
    "from ibm_watson_machine_learning import APIClient\n",
    "wml_credentials = {\n",
    "\"url\": \"https://us-south.ml.cloud.ibm.com\",\n",
    "\"apikey\":\"m4-xXEK8_bmzcb-5YEf11ai2gFIAL-L84TI6LRNeo3K1\"\n",
    "}\n",
    "client= APIClient (wml_credentials)"
   ]
  },
  {
   "cell_type": "code",
   "execution_count": 4,
   "id": "a889b9c1",
   "metadata": {},
   "outputs": [],
   "source": [
    "client= APIClient (wml_credentials)"
   ]
  },
  {
   "cell_type": "code",
   "execution_count": 5,
   "id": "b34ebfd4",
   "metadata": {},
   "outputs": [],
   "source": [
    "def guid_from_space_name(client, space_name):\n",
    "    space = client.spaces.get_details()\n",
    "    return(next(item for item in space['resources'] if item['entity'][\"name\"] == space_name)['metadata']['id'])"
   ]
  },
  {
   "cell_type": "code",
   "execution_count": 13,
   "id": "ca2a4838",
   "metadata": {},
   "outputs": [
    {
     "name": "stdout",
     "output_type": "stream",
     "text": [
      "Space UID = 02cde4c6-ce63-4709-90ee-abbd57c0cda0\n"
     ]
    }
   ],
   "source": [
    "space_uid = guid_from_space_name (client, 'image-classification')\n",
    "print(\"Space UID = \"+ space_uid)"
   ]
  },
  {
   "cell_type": "code",
   "execution_count": 7,
   "id": "96b4c021",
   "metadata": {},
   "outputs": [
    {
     "data": {
      "text/plain": [
       "'SUCCESS'"
      ]
     },
     "execution_count": 7,
     "metadata": {},
     "output_type": "execute_result"
    }
   ],
   "source": [
    "client.set.default_space (space_uid)"
   ]
  },
  {
   "cell_type": "code",
   "execution_count": 15,
   "id": "7d123ee4",
   "metadata": {},
   "outputs": [
    {
     "name": "stdout",
     "output_type": "stream",
     "text": [
      "Successfully saved model content to file: 'my_model.tar.gz'\n"
     ]
    },
    {
     "data": {
      "text/plain": [
       "'C:\\\\Users\\\\Elankumaran R/my_model.tar.gz'"
      ]
     },
     "execution_count": 15,
     "metadata": {},
     "output_type": "execute_result"
    }
   ],
   "source": [
    "client.repository.download(\"aab649db-b904-46c0-a679-c41d60fe8faf\",'my_model.tar.gz')"
   ]
  },
  {
   "cell_type": "code",
   "execution_count": null,
   "id": "fcc7b42f",
   "metadata": {},
   "outputs": [],
   "source": []
  }
 ],
 "metadata": {
  "kernelspec": {
   "display_name": "Python 3 (ipykernel)",
   "language": "python",
   "name": "python3"
  },
  "language_info": {
   "codemirror_mode": {
    "name": "ipython",
    "version": 3
   },
   "file_extension": ".py",
   "mimetype": "text/x-python",
   "name": "python",
   "nbconvert_exporter": "python",
   "pygments_lexer": "ipython3",
   "version": "3.9.7"
  }
 },
 "nbformat": 4,
 "nbformat_minor": 5
}
