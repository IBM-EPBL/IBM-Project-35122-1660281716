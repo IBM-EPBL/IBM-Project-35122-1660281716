{
 "cells": [
  {
   "cell_type": "code",
   "execution_count": 50,
   "id": "ba83db4a",
   "metadata": {},
   "outputs": [],
   "source": [
    "from keras.models import load_model\n",
    "from keras.preprocessing import image\n",
    "import tensorflow as tf\n"
   ]
  },
  {
   "cell_type": "code",
   "execution_count": 51,
   "id": "b5eee8fd",
   "metadata": {},
   "outputs": [],
   "source": [
    "model = load_model(\"Forest_fire.h5\")"
   ]
  },
  {
   "cell_type": "code",
   "execution_count": 144,
   "id": "a031b55f",
   "metadata": {},
   "outputs": [],
   "source": [
    "img= tf.keras.utils.load_img(\"withfire.jpg\")"
   ]
  },
  {
   "cell_type": "code",
   "execution_count": 145,
   "id": "c4f533c1",
   "metadata": {},
   "outputs": [],
   "source": [
    "import numpy as np"
   ]
  },
  {
   "cell_type": "code",
   "execution_count": 146,
   "id": "9890d5f2",
   "metadata": {},
   "outputs": [],
   "source": [
    "from tensorflow.keras.utils import load_img, img_to_array"
   ]
  },
  {
   "cell_type": "code",
   "execution_count": 152,
   "id": "17dc3b05",
   "metadata": {},
   "outputs": [],
   "source": [
    "img = img.convert(mode='RGB')\n",
    "\n",
    "x=tf.keras.utils.img_to_array(img)\n",
    "x=np.expand_dims(x,axis=0)"
   ]
  },
  {
   "cell_type": "code",
   "execution_count": 153,
   "id": "82cd9ede",
   "metadata": {
    "scrolled": true
   },
   "outputs": [
    {
     "data": {
      "text/plain": [
       "(1, 64, 64, 3)"
      ]
     },
     "execution_count": 153,
     "metadata": {},
     "output_type": "execute_result"
    }
   ],
   "source": [
    "x.shape "
   ]
  },
  {
   "cell_type": "code",
   "execution_count": 154,
   "id": "d003f485",
   "metadata": {},
   "outputs": [],
   "source": [
    "from array import array"
   ]
  },
  {
   "cell_type": "code",
   "execution_count": 156,
   "id": "85c4eeb9",
   "metadata": {},
   "outputs": [
    {
     "name": "stdout",
     "output_type": "stream",
     "text": [
      "1/1 [==============================] - 9s 9s/step\n"
     ]
    }
   ],
   "source": [
    "pred = np.argmax(model.predict(x), axis=-1)"
   ]
  },
  {
   "cell_type": "code",
   "execution_count": 157,
   "id": "217451f0",
   "metadata": {},
   "outputs": [
    {
     "name": "stdout",
     "output_type": "stream",
     "text": [
      "[0]\n"
     ]
    }
   ],
   "source": [
    "print (pred)"
   ]
  },
  {
   "cell_type": "code",
   "execution_count": 158,
   "id": "9605bc6f",
   "metadata": {},
   "outputs": [],
   "source": [
    "import cv2\n",
    "import numpy as np\n",
    "from keras.preprocessing import image\n",
    "from keras.models import load_model\n"
   ]
  },
  {
   "cell_type": "code",
   "execution_count": 159,
   "id": "58789f5d",
   "metadata": {},
   "outputs": [
    {
     "name": "stdout",
     "output_type": "stream",
     "text": [
      "Note: you may need to restart the kernel to use updated packages.Requirement already satisfied: twilio in c:\\users\\elankumaran r\\anaconda3\\lib\\site-packages (7.15.2)\n",
      "Requirement already satisfied: PyJWT<3.0.0,>=2.0.0 in c:\\users\\elankumaran r\\anaconda3\\lib\\site-packages (from twilio) (2.4.0)\n",
      "Requirement already satisfied: requests>=2.0.0 in c:\\users\\elankumaran r\\anaconda3\\lib\\site-packages (from twilio) (2.28.1)\n",
      "Requirement already satisfied: pytz in c:\\users\\elankumaran r\\anaconda3\\lib\\site-packages (from twilio) (2022.1)\n",
      "Requirement already satisfied: certifi>=2017.4.17 in c:\\users\\elankumaran r\\anaconda3\\lib\\site-packages (from requests>=2.0.0->twilio) (2022.9.14)\n",
      "Requirement already satisfied: urllib3<1.27,>=1.21.1 in c:\\users\\elankumaran r\\anaconda3\\lib\\site-packages (from requests>=2.0.0->twilio) (1.26.11)\n",
      "Requirement already satisfied: charset-normalizer<3,>=2 in c:\\users\\elankumaran r\\anaconda3\\lib\\site-packages (from requests>=2.0.0->twilio) (2.0.4)\n",
      "Requirement already satisfied: idna<4,>=2.5 in c:\\users\\elankumaran r\\anaconda3\\lib\\site-packages (from requests>=2.0.0->twilio) (3.3)\n",
      "\n"
     ]
    }
   ],
   "source": [
    "pip install twilio"
   ]
  },
  {
   "cell_type": "code",
   "execution_count": 161,
   "id": "092f1bbc",
   "metadata": {},
   "outputs": [],
   "source": [
    "model = load_model(r'Forest_fire.h5')"
   ]
  },
  {
   "cell_type": "code",
   "execution_count": 162,
   "id": "8ec4e232",
   "metadata": {},
   "outputs": [],
   "source": [
    "video = cv2.VideoCapture(0)"
   ]
  },
  {
   "cell_type": "code",
   "execution_count": 163,
   "id": "7019a964",
   "metadata": {},
   "outputs": [],
   "source": [
    "name = ['forest', 'with fire']"
   ]
  },
  {
   "cell_type": "code",
   "execution_count": 165,
   "id": "3f76defe",
   "metadata": {},
   "outputs": [],
   "source": [
    "from twilio.rest import Client"
   ]
  },
  {
   "cell_type": "code",
   "execution_count": 166,
   "id": "a700fb33",
   "metadata": {},
   "outputs": [
    {
     "name": "stdout",
     "output_type": "stream",
     "text": [
      "SM38faa0fda3f763cc3939d86b6ae75d8c\n"
     ]
    }
   ],
   "source": [
    "account_sid = 'ACe316932976f5aff487f6cdcab9a13579'\n",
    "auth_token= '589a07a92f512377d139c9d237f61bd4'\n",
    "client = Client (account_sid, auth_token)\n",
    "message = client.messages\\\n",
    ".create(\n",
    "    body='Forest Fire is detected, stay alert',\n",
    "    from_= '+12183043886',\n",
    "    to='+916374835017',)\n",
    "    \n",
    "print(message.sid)"
   ]
  },
  {
   "cell_type": "code",
   "execution_count": 167,
   "id": "1da54471",
   "metadata": {},
   "outputs": [
    {
     "name": "stdout",
     "output_type": "stream",
     "text": [
      "SM0fb6faff8bb5f6799751900a7c4d456b\n"
     ]
    }
   ],
   "source": [
    "account_sid = 'ACe316932976f5aff487f6cdcab9a13579'\n",
    "auth_token= '589a07a92f512377d139c9d237f61bd4'\n",
    "client = Client (account_sid, auth_token)\n",
    "message = client.messages\\\n",
    ".create(\n",
    "    body='Forest Fire is detected, stay alert',\n",
    "    from_= '+12183043886',\n",
    "    to='+91 94884 93819',)\n",
    "    \n",
    "print(message.sid)"
   ]
  },
  {
   "cell_type": "code",
   "execution_count": null,
   "id": "b702e1e6",
   "metadata": {},
   "outputs": [],
   "source": []
  }
 ],
 "metadata": {
  "kernelspec": {
   "display_name": "Python 3 (ipykernel)",
   "language": "python",
   "name": "python3"
  },
  "language_info": {
   "codemirror_mode": {
    "name": "ipython",
    "version": 3
   },
   "file_extension": ".py",
   "mimetype": "text/x-python",
   "name": "python",
   "nbconvert_exporter": "python",
   "pygments_lexer": "ipython3",
   "version": "3.9.13"
  }
 },
 "nbformat": 4,
 "nbformat_minor": 5
}
