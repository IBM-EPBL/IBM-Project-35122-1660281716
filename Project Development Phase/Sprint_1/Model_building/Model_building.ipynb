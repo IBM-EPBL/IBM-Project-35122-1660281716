{
  "nbformat": 4,
  "nbformat_minor": 0,
  "metadata": {
    "colab": {
      "provenance": [],
      "collapsed_sections": []
    },
    "kernelspec": {
      "name": "python3",
      "display_name": "Python 3"
    },
    "language_info": {
      "name": "python"
    },
    "accelerator": "GPU",
    "gpuClass": "standard"
  },
  "cells": [
    {
      "cell_type": "markdown",
      "source": [
        "Data Collection"
      ],
      "metadata": {
        "id": "wgkJ5ycpITwg"
      }
    },
    {
      "cell_type": "code",
      "source": [
        "from google.colab import drive\n",
        "drive.mount('/content/drive')"
      ],
      "metadata": {
        "colab": {
          "base_uri": "https://localhost:8080/"
        },
        "id": "GmTRUrzJ141n",
        "outputId": "3b6064ed-2ad7-4978-c7d7-a95d33e61c88"
      },
      "execution_count": 30,
      "outputs": [
        {
          "output_type": "stream",
          "name": "stdout",
          "text": [
            "Drive already mounted at /content/drive; to attempt to forcibly remount, call drive.mount(\"/content/drive\", force_remount=True).\n"
          ]
        }
      ]
    },
    {
      "cell_type": "code",
      "execution_count": 31,
      "metadata": {
        "colab": {
          "base_uri": "https://localhost:8080/"
        },
        "id": "b7K1Rhd5HeFJ",
        "outputId": "6a94d816-7b3f-499a-c0c5-e73c6b0e1b58"
      },
      "outputs": [
        {
          "output_type": "stream",
          "name": "stdout",
          "text": [
            "Archive:  /content/drive/MyDrive/ibm/archive.zip\n",
            "replace Dataset/Dataset/test_set/forest/0.48007200_1530881924_final_forest.jpg? [y]es, [n]o, [A]ll, [N]one, [r]ename: "
          ]
        }
      ],
      "source": [
        "!unzip '/content/drive/MyDrive/ibm/archive.zip'"
      ]
    },
    {
      "cell_type": "markdown",
      "source": [
        "**Image Preprocessing**\n",
        "\n"
      ],
      "metadata": {
        "id": "I2UJVZw8Ijw5"
      }
    },
    {
      "cell_type": "code",
      "source": [
        "# import keras library\n",
        "import keras\n",
        "#import ImageDataGenerator from keras.preprocessing.image\n",
        "from keras.preprocessing.image import ImageDataGenerator "
      ],
      "metadata": {
        "id": "bZT5qR_wjcOe"
      },
      "execution_count": 3,
      "outputs": []
    },
    {
      "cell_type": "code",
      "source": [
        "import tensorflow as tf\n",
        "import numpy as np\n",
        "import matplotlib.pyplot as plt\n",
        "from tensorflow import keras\n",
        "from tensorflow.keras.preprocessing import image_dataset_from_directory"
      ],
      "metadata": {
        "id": "fKBMB76VIxRN"
      },
      "execution_count": 4,
      "outputs": []
    },
    {
      "cell_type": "code",
      "source": [
        "\n",
        "train_datagen = ImageDataGenerator(\n",
        "                                   rotation_range=180,\n",
        "                                   brightness_range=None,\n",
        "                                   shear_range=0.4,\n",
        "                                   zoom_range=0.3,\n",
        "                                   horizontal_flip=True,\n",
        "                                   vertical_flip=True,\n",
        "                                   rescale=1./255,)"
      ],
      "metadata": {
        "id": "ybiq2pzyI7AU"
      },
      "execution_count": 32,
      "outputs": []
    },
    {
      "cell_type": "code",
      "source": [
        "\n",
        "test_datagen = ImageDataGenerator(rescale=1./255)"
      ],
      "metadata": {
        "id": "9TxKpSpuKt3-"
      },
      "execution_count": 33,
      "outputs": []
    },
    {
      "cell_type": "code",
      "source": [
        "xtrain = train_datagen.flow_from_directory('/content/Dataset/Dataset/train_set',\n",
        "                                           target_size=(64,64),\n",
        "                                           class_mode='binary',\n",
        "                                           batch_size=100)"
      ],
      "metadata": {
        "colab": {
          "base_uri": "https://localhost:8080/"
        },
        "id": "z7lHSWIfLjkp",
        "outputId": "ba1a1dc4-6d63-486a-9ac5-fc2fbb583e42"
      },
      "execution_count": 7,
      "outputs": [
        {
          "output_type": "stream",
          "name": "stdout",
          "text": [
            "Found 436 images belonging to 2 classes.\n"
          ]
        }
      ]
    },
    {
      "cell_type": "code",
      "source": [
        "xtest = train_datagen.flow_from_directory('/content/Dataset/Dataset/test_set',\n",
        "                                           target_size=(64,64),\n",
        "                                           class_mode='binary',\n",
        "                                           batch_size=100)"
      ],
      "metadata": {
        "colab": {
          "base_uri": "https://localhost:8080/"
        },
        "id": "DLFy3Po3MBLF",
        "outputId": "01e39905-7a20-4e48-ae4c-25ba252bb15b"
      },
      "execution_count": 8,
      "outputs": [
        {
          "output_type": "stream",
          "name": "stdout",
          "text": [
            "Found 121 images belonging to 2 classes.\n"
          ]
        }
      ]
    },
    {
      "cell_type": "markdown",
      "source": [
        "**Model Building**"
      ],
      "metadata": {
        "id": "_86n1NiEA6fD"
      }
    },
    {
      "cell_type": "markdown",
      "source": [
        "1. Import the Model Builing Libraries"
      ],
      "metadata": {
        "id": "JfEUueUJBBE7"
      }
    },
    {
      "cell_type": "code",
      "source": [
        "import warnings\n",
        "warnings.filterwarnings('ignore')\n",
        "from tensorflow.keras.models import Sequential\n",
        "from tensorflow.keras.layers import Dense\n",
        "from tensorflow.keras.layers import Convolution2D\n",
        "from tensorflow.keras.layers import MaxPooling2D\n",
        "from tensorflow.keras.layers import Flatten"
      ],
      "metadata": {
        "id": "kVKDcezp4QaL"
      },
      "execution_count": 9,
      "outputs": []
    },
    {
      "cell_type": "markdown",
      "source": [
        "2. Initialize the Model"
      ],
      "metadata": {
        "id": "EaIhJya8B17X"
      }
    },
    {
      "cell_type": "code",
      "source": [
        "model = Sequential()"
      ],
      "metadata": {
        "id": "kDoV7DT2BeRD"
      },
      "execution_count": 10,
      "outputs": []
    },
    {
      "cell_type": "markdown",
      "source": [
        "3. Adding CNN Layers"
      ],
      "metadata": {
        "id": "h_ABk5KZCEsS"
      }
    },
    {
      "cell_type": "code",
      "source": [
        "#Convolution Layer\n",
        "model.add(Convolution2D(32,(3,3),activation='relu',input_shape=(64,64,3)))"
      ],
      "metadata": {
        "id": "doLfETtTCAgD"
      },
      "execution_count": 11,
      "outputs": []
    },
    {
      "cell_type": "code",
      "source": [
        "#MaxPooling Layer\n",
        "model.add(MaxPooling2D(pool_size=(2, 2)))"
      ],
      "metadata": {
        "id": "hndEc-WHCKMS"
      },
      "execution_count": 12,
      "outputs": []
    },
    {
      "cell_type": "code",
      "source": [
        "#Flatten Layer\n",
        "model.add(Flatten())"
      ],
      "metadata": {
        "id": "3Pqc-JeWCVxl"
      },
      "execution_count": 13,
      "outputs": []
    },
    {
      "cell_type": "markdown",
      "source": [
        "4. Adding Dense Layer"
      ],
      "metadata": {
        "id": "e52S58PGCuiZ"
      }
    },
    {
      "cell_type": "code",
      "source": [
        "#Hidden Layer\n",
        "model.add(Dense(350,activation='relu')) # Hidden layer 1\n",
        "model.add(Dense(200,activation='relu')) # Hidden layer 2"
      ],
      "metadata": {
        "id": "XAh5JiOLCaR4"
      },
      "execution_count": 14,
      "outputs": []
    },
    {
      "cell_type": "code",
      "source": [
        "#Output Layer\n",
        "model.add(Dense(1,activation='softmax'))"
      ],
      "metadata": {
        "id": "dcb4jLSqCg5C"
      },
      "execution_count": 15,
      "outputs": []
    },
    {
      "cell_type": "markdown",
      "source": [
        "5. Configuring The Learning Process"
      ],
      "metadata": {
        "id": "RFTLHyhICw_m"
      }
    },
    {
      "cell_type": "code",
      "source": [
        "model.compile(optimizer='adam',loss='binary_crossentropy',metrics=['accuracy'])"
      ],
      "metadata": {
        "id": "I95qfZU7ConD"
      },
      "execution_count": 16,
      "outputs": []
    },
    {
      "cell_type": "markdown",
      "source": [
        "6. Training the Model"
      ],
      "metadata": {
        "id": "_qd6UCQ9C-l0"
      }
    },
    {
      "cell_type": "code",
      "source": [
        "model.fit_generator(xtrain,\n",
        "                    steps_per_epoch=len(xtrain),\n",
        "                    epochs=10,\n",
        "                    validation_data=xtest,\n",
        "                    validation_steps=len(xtest))"
      ],
      "metadata": {
        "colab": {
          "base_uri": "https://localhost:8080/"
        },
        "id": "noP4oQGzC830",
        "outputId": "85bcbf3e-545a-4e8c-e63b-6355f56a8c24"
      },
      "execution_count": 17,
      "outputs": [
        {
          "output_type": "stream",
          "name": "stdout",
          "text": [
            "Epoch 1/10\n",
            "5/5 [==============================] - 26s 4s/step - loss: 1.4973 - accuracy: 0.3555 - val_loss: 0.3514 - val_accuracy: 0.4050\n",
            "Epoch 2/10\n",
            "5/5 [==============================] - 15s 3s/step - loss: 0.4535 - accuracy: 0.3555 - val_loss: 0.2428 - val_accuracy: 0.4050\n",
            "Epoch 3/10\n",
            "5/5 [==============================] - 15s 3s/step - loss: 0.3121 - accuracy: 0.3555 - val_loss: 0.1192 - val_accuracy: 0.4050\n",
            "Epoch 4/10\n",
            "5/5 [==============================] - 15s 3s/step - loss: 0.2170 - accuracy: 0.3555 - val_loss: 0.1250 - val_accuracy: 0.4050\n",
            "Epoch 5/10\n",
            "5/5 [==============================] - 15s 3s/step - loss: 0.2326 - accuracy: 0.3555 - val_loss: 0.2255 - val_accuracy: 0.4050\n",
            "Epoch 6/10\n",
            "5/5 [==============================] - 15s 3s/step - loss: 0.2271 - accuracy: 0.3555 - val_loss: 0.0764 - val_accuracy: 0.4050\n",
            "Epoch 7/10\n",
            "5/5 [==============================] - 15s 3s/step - loss: 0.2485 - accuracy: 0.3555 - val_loss: 0.0523 - val_accuracy: 0.4050\n",
            "Epoch 8/10\n",
            "5/5 [==============================] - 15s 4s/step - loss: 0.2614 - accuracy: 0.3555 - val_loss: 0.0550 - val_accuracy: 0.4050\n",
            "Epoch 9/10\n",
            "5/5 [==============================] - 15s 3s/step - loss: 0.2079 - accuracy: 0.3555 - val_loss: 0.1058 - val_accuracy: 0.4050\n",
            "Epoch 10/10\n",
            "5/5 [==============================] - 18s 4s/step - loss: 0.2421 - accuracy: 0.3555 - val_loss: 0.0717 - val_accuracy: 0.4050\n"
          ]
        },
        {
          "output_type": "execute_result",
          "data": {
            "text/plain": [
              "<keras.callbacks.History at 0x7fbc621184d0>"
            ]
          },
          "metadata": {},
          "execution_count": 17
        }
      ]
    },
    {
      "cell_type": "markdown",
      "source": [
        "7. Saving the Model"
      ],
      "metadata": {
        "id": "mW4gF91DG8RC"
      }
    },
    {
      "cell_type": "code",
      "source": [
        "model.save('Forest_fire.h5')"
      ],
      "metadata": {
        "id": "qtMDnl3VF0QG"
      },
      "execution_count": 18,
      "outputs": []
    },
    {
      "cell_type": "markdown",
      "source": [
        "8. Prediction"
      ],
      "metadata": {
        "id": "wYsfVIfwHRtZ"
      }
    },
    {
      "cell_type": "code",
      "source": [
        "from tensorflow.keras.models import load_model\n",
        "from tensorflow.keras.preprocessing import image"
      ],
      "metadata": {
        "id": "M-sGToJUHOWG"
      },
      "execution_count": 19,
      "outputs": []
    },
    {
      "cell_type": "code",
      "source": [
        "img = image.load_img('/content/Fire-Forest.jpg',target_size=(64,64))"
      ],
      "metadata": {
        "id": "X2Wq2lu4IA-o"
      },
      "execution_count": 40,
      "outputs": []
    },
    {
      "cell_type": "code",
      "source": [
        "img"
      ],
      "metadata": {
        "colab": {
          "base_uri": "https://localhost:8080/",
          "height": 81
        },
        "id": "mDOmQspyIPz7",
        "outputId": "bf60d92b-c5f6-43c8-c952-ca16b2f21899"
      },
      "execution_count": 41,
      "outputs": [
        {
          "output_type": "execute_result",
          "data": {
            "text/plain": [
              "<PIL.Image.Image image mode=RGB size=64x64 at 0x7FBC61C5F590>"
            ],
            "image/png": "[encoded data removed]"
          },
          "metadata": {},
          "execution_count": 41
        }
      ]
    },
    {
      "cell_type": "code",
      "source": [
        "x=image.img_to_array(img)\n",
        "#expand the image shape\n",
        "x=np.expand_dims(x,axis=0)"
      ],
      "metadata": {
        "id": "0EEgbXKUJsdx"
      },
      "execution_count": 42,
      "outputs": []
    },
    {
      "cell_type": "code",
      "source": [
        "pred=model.predict(x)"
      ],
      "metadata": {
        "colab": {
          "base_uri": "https://localhost:8080/"
        },
        "id": "TqPPPz14IfR1",
        "outputId": "b823a30c-daf1-4ab7-a9ec-b6660d7ba574"
      },
      "execution_count": 43,
      "outputs": [
        {
          "output_type": "stream",
          "name": "stdout",
          "text": [
            "1/1 [==============================] - 0s 15ms/step\n"
          ]
        }
      ]
    },
    {
      "cell_type": "code",
      "source": [
        "print (pred)"
      ],
      "metadata": {
        "colab": {
          "base_uri": "https://localhost:8080/"
        },
        "id": "xPEJIgn9KJY1",
        "outputId": "ba4d2ab3-57d3-41cc-c2f2-9b8524dd9745"
      },
      "execution_count": 44,
      "outputs": [
        {
          "output_type": "stream",
          "name": "stdout",
          "text": [
            "[[1.]]\n"
          ]
        }
      ]
    }
  ]
}